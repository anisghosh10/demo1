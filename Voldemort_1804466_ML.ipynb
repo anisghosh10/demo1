{
 "cells": [
  {
   "cell_type": "code",
   "execution_count": 1,
   "metadata": {},
   "outputs": [
    {
     "name": "stdout",
     "output_type": "stream",
     "text": [
      "Requirement already satisfied: xgboost in c:\\users\\kiit\\anaconda3\\lib\\site-packages (1.3.3)\n",
      "Requirement already satisfied: scipy in c:\\users\\kiit\\anaconda3\\lib\\site-packages (from xgboost) (1.1.0)\n",
      "Requirement already satisfied: numpy in c:\\users\\kiit\\anaconda3\\lib\\site-packages (from xgboost) (1.14.3)\n"
     ]
    },
    {
     "name": "stderr",
     "output_type": "stream",
     "text": [
      "distributed 1.21.8 requires msgpack, which is not installed.\n",
      "You are using pip version 10.0.1, however version 21.0.1 is available.\n",
      "You should consider upgrading via the 'python -m pip install --upgrade pip' command.\n"
     ]
    }
   ],
   "source": [
    "#importing libraries\n",
    "import pandas as pd\n",
    "import numpy as np\n",
    "import datetime as dt\n",
    "from sklearn.feature_selection import VarianceThreshold\n",
    "from sklearn.model_selection import train_test_split\n",
    "import seaborn as sns\n",
    "import matplotlib.pyplot as plt\n",
    "!pip install xgboost\n",
    "import xgboost as xgb\n",
    "from sklearn.ensemble import RandomForestRegressor\n",
    "import sklearn.metrics as sm\n",
    "from sklearn.tree import DecisionTreeRegressor\n",
    "from sklearn.svm import SVC\n",
    "from sklearn.model_selection import RandomizedSearchCV, GridSearchCV"
   ]
  },
  {
   "cell_type": "code",
   "execution_count": 2,
   "metadata": {},
   "outputs": [
    {
     "data": {
      "text/html": [
       "<div>\n",
       "<style scoped>\n",
       "    .dataframe tbody tr th:only-of-type {\n",
       "        vertical-align: middle;\n",
       "    }\n",
       "\n",
       "    .dataframe tbody tr th {\n",
       "        vertical-align: top;\n",
       "    }\n",
       "\n",
       "    .dataframe thead th {\n",
       "        text-align: right;\n",
       "    }\n",
       "</style>\n",
       "<table border=\"1\" class=\"dataframe\">\n",
       "  <thead>\n",
       "    <tr style=\"text-align: right;\">\n",
       "      <th></th>\n",
       "      <th>business_code</th>\n",
       "      <th>cust_number</th>\n",
       "      <th>name_customer</th>\n",
       "      <th>clear_date</th>\n",
       "      <th>buisness_year</th>\n",
       "      <th>doc_id</th>\n",
       "      <th>posting_date</th>\n",
       "      <th>document_create_date</th>\n",
       "      <th>document_create_date.1</th>\n",
       "      <th>due_in_date</th>\n",
       "      <th>invoice_currency</th>\n",
       "      <th>document type</th>\n",
       "      <th>posting_id</th>\n",
       "      <th>area_business</th>\n",
       "      <th>total_open_amount</th>\n",
       "      <th>baseline_create_date</th>\n",
       "      <th>cust_payment_terms</th>\n",
       "      <th>invoice_id</th>\n",
       "      <th>isOpen</th>\n",
       "    </tr>\n",
       "  </thead>\n",
       "  <tbody>\n",
       "    <tr>\n",
       "      <th>49995</th>\n",
       "      <td>U001</td>\n",
       "      <td>0200780383</td>\n",
       "      <td>MEIJ llc</td>\n",
       "      <td>NaN</td>\n",
       "      <td>2020.0</td>\n",
       "      <td>1.930627e+09</td>\n",
       "      <td>2020-03-09</td>\n",
       "      <td>20200309</td>\n",
       "      <td>20200309</td>\n",
       "      <td>20200513.0</td>\n",
       "      <td>USD</td>\n",
       "      <td>RV</td>\n",
       "      <td>1.0</td>\n",
       "      <td>NaN</td>\n",
       "      <td>326.60</td>\n",
       "      <td>20200309.0</td>\n",
       "      <td>NAGD</td>\n",
       "      <td>1.930627e+09</td>\n",
       "      <td>1</td>\n",
       "    </tr>\n",
       "    <tr>\n",
       "      <th>49996</th>\n",
       "      <td>U001</td>\n",
       "      <td>0200881076</td>\n",
       "      <td>ALBERT associates</td>\n",
       "      <td>NaN</td>\n",
       "      <td>2020.0</td>\n",
       "      <td>1.930732e+09</td>\n",
       "      <td>2020-04-02</td>\n",
       "      <td>20200402</td>\n",
       "      <td>20200402</td>\n",
       "      <td>20200417.0</td>\n",
       "      <td>USD</td>\n",
       "      <td>RV</td>\n",
       "      <td>1.0</td>\n",
       "      <td>NaN</td>\n",
       "      <td>94406.39</td>\n",
       "      <td>20200402.0</td>\n",
       "      <td>NAA8</td>\n",
       "      <td>1.930732e+09</td>\n",
       "      <td>1</td>\n",
       "    </tr>\n",
       "    <tr>\n",
       "      <th>49997</th>\n",
       "      <td>U001</td>\n",
       "      <td>0200769623</td>\n",
       "      <td>WAL-MAR corp</td>\n",
       "      <td>NaN</td>\n",
       "      <td>2020.0</td>\n",
       "      <td>1.930781e+09</td>\n",
       "      <td>2020-04-13</td>\n",
       "      <td>20200413</td>\n",
       "      <td>20200413</td>\n",
       "      <td>20200428.0</td>\n",
       "      <td>USD</td>\n",
       "      <td>RV</td>\n",
       "      <td>1.0</td>\n",
       "      <td>NaN</td>\n",
       "      <td>72423.57</td>\n",
       "      <td>20200413.0</td>\n",
       "      <td>NAH4</td>\n",
       "      <td>1.930781e+09</td>\n",
       "      <td>1</td>\n",
       "    </tr>\n",
       "    <tr>\n",
       "      <th>49998</th>\n",
       "      <td>U001</td>\n",
       "      <td>0200416837</td>\n",
       "      <td>DEC trust</td>\n",
       "      <td>NaN</td>\n",
       "      <td>2020.0</td>\n",
       "      <td>1.930812e+09</td>\n",
       "      <td>2020-04-22</td>\n",
       "      <td>20200422</td>\n",
       "      <td>20200422</td>\n",
       "      <td>20200509.0</td>\n",
       "      <td>USD</td>\n",
       "      <td>RV</td>\n",
       "      <td>1.0</td>\n",
       "      <td>NaN</td>\n",
       "      <td>4923.77</td>\n",
       "      <td>20200416.0</td>\n",
       "      <td>NAM4</td>\n",
       "      <td>1.930812e+09</td>\n",
       "      <td>1</td>\n",
       "    </tr>\n",
       "    <tr>\n",
       "      <th>49999</th>\n",
       "      <td>U001</td>\n",
       "      <td>0200769623</td>\n",
       "      <td>WAL-MAR associates</td>\n",
       "      <td>NaN</td>\n",
       "      <td>2020.0</td>\n",
       "      <td>1.930611e+09</td>\n",
       "      <td>2020-03-06</td>\n",
       "      <td>20200306</td>\n",
       "      <td>20200306</td>\n",
       "      <td>20200321.0</td>\n",
       "      <td>USD</td>\n",
       "      <td>RV</td>\n",
       "      <td>1.0</td>\n",
       "      <td>NaN</td>\n",
       "      <td>19657.38</td>\n",
       "      <td>20200306.0</td>\n",
       "      <td>NAH4</td>\n",
       "      <td>1.930611e+09</td>\n",
       "      <td>1</td>\n",
       "    </tr>\n",
       "  </tbody>\n",
       "</table>\n",
       "</div>"
      ],
      "text/plain": [
       "      business_code cust_number       name_customer clear_date  buisness_year  \\\n",
       "49995          U001  0200780383            MEIJ llc        NaN         2020.0   \n",
       "49996          U001  0200881076   ALBERT associates        NaN         2020.0   \n",
       "49997          U001  0200769623        WAL-MAR corp        NaN         2020.0   \n",
       "49998          U001  0200416837           DEC trust        NaN         2020.0   \n",
       "49999          U001  0200769623  WAL-MAR associates        NaN         2020.0   \n",
       "\n",
       "             doc_id posting_date  document_create_date  \\\n",
       "49995  1.930627e+09   2020-03-09              20200309   \n",
       "49996  1.930732e+09   2020-04-02              20200402   \n",
       "49997  1.930781e+09   2020-04-13              20200413   \n",
       "49998  1.930812e+09   2020-04-22              20200422   \n",
       "49999  1.930611e+09   2020-03-06              20200306   \n",
       "\n",
       "       document_create_date.1  due_in_date invoice_currency document type  \\\n",
       "49995                20200309   20200513.0              USD            RV   \n",
       "49996                20200402   20200417.0              USD            RV   \n",
       "49997                20200413   20200428.0              USD            RV   \n",
       "49998                20200422   20200509.0              USD            RV   \n",
       "49999                20200306   20200321.0              USD            RV   \n",
       "\n",
       "       posting_id  area_business  total_open_amount  baseline_create_date  \\\n",
       "49995         1.0            NaN             326.60            20200309.0   \n",
       "49996         1.0            NaN           94406.39            20200402.0   \n",
       "49997         1.0            NaN           72423.57            20200413.0   \n",
       "49998         1.0            NaN            4923.77            20200416.0   \n",
       "49999         1.0            NaN           19657.38            20200306.0   \n",
       "\n",
       "      cust_payment_terms    invoice_id  isOpen  \n",
       "49995               NAGD  1.930627e+09       1  \n",
       "49996               NAA8  1.930732e+09       1  \n",
       "49997               NAH4  1.930781e+09       1  \n",
       "49998               NAM4  1.930812e+09       1  \n",
       "49999               NAH4  1.930611e+09       1  "
      ]
     },
     "execution_count": 2,
     "metadata": {},
     "output_type": "execute_result"
    }
   ],
   "source": [
    "#reading the given datafile\n",
    "df=pd.read_csv(r'1804466.csv')\n",
    "df.tail()"
   ]
  },
  {
   "cell_type": "markdown",
   "metadata": {},
   "source": [
    "### PRE-PROCESSING"
   ]
  },
  {
   "cell_type": "code",
   "execution_count": 3,
   "metadata": {},
   "outputs": [
    {
     "data": {
      "text/plain": [
       "business_code                 0\n",
       "cust_number                   0\n",
       "name_customer                 0\n",
       "clear_date                 3646\n",
       "buisness_year                 0\n",
       "doc_id                        0\n",
       "posting_date                  0\n",
       "document_create_date          0\n",
       "document_create_date.1        0\n",
       "due_in_date                   0\n",
       "invoice_currency              0\n",
       "document type                 0\n",
       "posting_id                    0\n",
       "area_business             50000\n",
       "total_open_amount             0\n",
       "baseline_create_date          0\n",
       "cust_payment_terms            0\n",
       "invoice_id                    5\n",
       "isOpen                        0\n",
       "dtype: int64"
      ]
     },
     "execution_count": 3,
     "metadata": {},
     "output_type": "execute_result"
    }
   ],
   "source": [
    "#find the columns with the null values\n",
    "df.isnull().sum()"
   ]
  },
  {
   "cell_type": "markdown",
   "metadata": {},
   "source": [
    "As we can see that the column area business is completely null so we will deop it"
   ]
  },
  {
   "cell_type": "code",
   "execution_count": 4,
   "metadata": {},
   "outputs": [
    {
     "data": {
      "text/plain": [
       "Index(['business_code', 'cust_number', 'name_customer', 'clear_date',\n",
       "       'buisness_year', 'doc_id', 'posting_date', 'document_create_date',\n",
       "       'document_create_date.1', 'due_in_date', 'invoice_currency',\n",
       "       'document type', 'posting_id', 'area_business', 'total_open_amount',\n",
       "       'baseline_create_date', 'cust_payment_terms', 'invoice_id', 'isOpen'],\n",
       "      dtype='object')"
      ]
     },
     "execution_count": 4,
     "metadata": {},
     "output_type": "execute_result"
    }
   ],
   "source": [
    "df.shape\n",
    "df.columns"
   ]
  },
  {
   "cell_type": "code",
   "execution_count": 5,
   "metadata": {},
   "outputs": [
    {
     "data": {
      "text/plain": [
       "(50000, 18)"
      ]
     },
     "execution_count": 5,
     "metadata": {},
     "output_type": "execute_result"
    }
   ],
   "source": [
    "#dropping the cloumn where all values are null\n",
    "df.dropna(axis=1,how='all',inplace=True)\n",
    "df.shape"
   ]
  },
  {
   "cell_type": "code",
   "execution_count": 6,
   "metadata": {},
   "outputs": [
    {
     "data": {
      "text/plain": [
       "(50000, 18)"
      ]
     },
     "execution_count": 6,
     "metadata": {},
     "output_type": "execute_result"
    }
   ],
   "source": [
    "#checking if any row is completely empty\n",
    "s=df.dropna(axis=0,how='all')\n",
    "s.shape"
   ]
  },
  {
   "cell_type": "code",
   "execution_count": 7,
   "metadata": {},
   "outputs": [
    {
     "data": {
      "text/plain": [
       "business_code                0\n",
       "cust_number                  0\n",
       "name_customer                0\n",
       "clear_date                3646\n",
       "buisness_year                0\n",
       "doc_id                       0\n",
       "posting_date                 0\n",
       "document_create_date         0\n",
       "document_create_date.1       0\n",
       "due_in_date                  0\n",
       "invoice_currency             0\n",
       "document type                0\n",
       "posting_id                   0\n",
       "total_open_amount            0\n",
       "baseline_create_date         0\n",
       "cust_payment_terms           0\n",
       "invoice_id                   5\n",
       "isOpen                       0\n",
       "dtype: int64"
      ]
     },
     "execution_count": 7,
     "metadata": {},
     "output_type": "execute_result"
    }
   ],
   "source": [
    "#checking the null values\n",
    "df.isnull().sum()"
   ]
  },
  {
   "cell_type": "code",
   "execution_count": 8,
   "metadata": {},
   "outputs": [
    {
     "data": {
      "text/plain": [
       "(49995, 18)"
      ]
     },
     "execution_count": 8,
     "metadata": {},
     "output_type": "execute_result"
    }
   ],
   "source": [
    "#dropping the rows where invoice_id has null value\n",
    "df.dropna(axis=0,subset=['invoice_id'],inplace=True)\n",
    "df.shape"
   ]
  },
  {
   "cell_type": "code",
   "execution_count": 9,
   "metadata": {},
   "outputs": [
    {
     "data": {
      "text/plain": [
       "business_code                0\n",
       "cust_number                  0\n",
       "name_customer                0\n",
       "clear_date                3646\n",
       "buisness_year                0\n",
       "doc_id                       0\n",
       "posting_date                 0\n",
       "document_create_date         0\n",
       "document_create_date.1       0\n",
       "due_in_date                  0\n",
       "invoice_currency             0\n",
       "document type                0\n",
       "posting_id                   0\n",
       "total_open_amount            0\n",
       "baseline_create_date         0\n",
       "cust_payment_terms           0\n",
       "invoice_id                   0\n",
       "isOpen                       0\n",
       "dtype: int64"
      ]
     },
     "execution_count": 9,
     "metadata": {},
     "output_type": "execute_result"
    }
   ],
   "source": [
    "#checking null values again\n",
    "df.isnull().sum()"
   ]
  },
  {
   "cell_type": "code",
   "execution_count": 10,
   "metadata": {},
   "outputs": [
    {
     "data": {
      "text/html": [
       "<div>\n",
       "<style scoped>\n",
       "    .dataframe tbody tr th:only-of-type {\n",
       "        vertical-align: middle;\n",
       "    }\n",
       "\n",
       "    .dataframe tbody tr th {\n",
       "        vertical-align: top;\n",
       "    }\n",
       "\n",
       "    .dataframe thead th {\n",
       "        text-align: right;\n",
       "    }\n",
       "</style>\n",
       "<table border=\"1\" class=\"dataframe\">\n",
       "  <thead>\n",
       "    <tr style=\"text-align: right;\">\n",
       "      <th></th>\n",
       "      <th>business_code</th>\n",
       "      <th>cust_number</th>\n",
       "      <th>name_customer</th>\n",
       "      <th>clear_date</th>\n",
       "      <th>buisness_year</th>\n",
       "      <th>doc_id</th>\n",
       "      <th>posting_date</th>\n",
       "      <th>document_create_date</th>\n",
       "      <th>document_create_date.1</th>\n",
       "      <th>due_in_date</th>\n",
       "      <th>invoice_currency</th>\n",
       "      <th>document type</th>\n",
       "      <th>posting_id</th>\n",
       "      <th>total_open_amount</th>\n",
       "      <th>baseline_create_date</th>\n",
       "      <th>cust_payment_terms</th>\n",
       "      <th>invoice_id</th>\n",
       "      <th>isOpen</th>\n",
       "    </tr>\n",
       "  </thead>\n",
       "  <tbody>\n",
       "    <tr>\n",
       "      <th>0</th>\n",
       "      <td>U001</td>\n",
       "      <td>0100000222</td>\n",
       "      <td>SMITHFIE foundation</td>\n",
       "      <td>2019-05-20 00:00:00</td>\n",
       "      <td>2019.0</td>\n",
       "      <td>1.929285e+09</td>\n",
       "      <td>2019-05-09</td>\n",
       "      <td>20190508</td>\n",
       "      <td>20190509</td>\n",
       "      <td>20190524.0</td>\n",
       "      <td>USD</td>\n",
       "      <td>RV</td>\n",
       "      <td>1.0</td>\n",
       "      <td>26888.79</td>\n",
       "      <td>20190509.0</td>\n",
       "      <td>NAA8</td>\n",
       "      <td>1.929285e+09</td>\n",
       "      <td>0</td>\n",
       "    </tr>\n",
       "    <tr>\n",
       "      <th>1</th>\n",
       "      <td>CA02</td>\n",
       "      <td>0140104472</td>\n",
       "      <td>MARTIN</td>\n",
       "      <td>2019-03-27 00:00:00</td>\n",
       "      <td>2019.0</td>\n",
       "      <td>2.960531e+09</td>\n",
       "      <td>2019-02-26</td>\n",
       "      <td>20190226</td>\n",
       "      <td>20190226</td>\n",
       "      <td>20190318.0</td>\n",
       "      <td>CAD</td>\n",
       "      <td>RV</td>\n",
       "      <td>1.0</td>\n",
       "      <td>2963.10</td>\n",
       "      <td>20190308.0</td>\n",
       "      <td>CA10</td>\n",
       "      <td>2.960531e+09</td>\n",
       "      <td>0</td>\n",
       "    </tr>\n",
       "    <tr>\n",
       "      <th>2</th>\n",
       "      <td>CA02</td>\n",
       "      <td>0140104429</td>\n",
       "      <td>COSTCO foundation</td>\n",
       "      <td>2019-02-07 00:00:00</td>\n",
       "      <td>2019.0</td>\n",
       "      <td>2.960526e+09</td>\n",
       "      <td>2019-01-27</td>\n",
       "      <td>20190127</td>\n",
       "      <td>20190127</td>\n",
       "      <td>20190207.0</td>\n",
       "      <td>CAD</td>\n",
       "      <td>RV</td>\n",
       "      <td>1.0</td>\n",
       "      <td>5379.03</td>\n",
       "      <td>20190128.0</td>\n",
       "      <td>CA10</td>\n",
       "      <td>2.960526e+09</td>\n",
       "      <td>0</td>\n",
       "    </tr>\n",
       "    <tr>\n",
       "      <th>3</th>\n",
       "      <td>U001</td>\n",
       "      <td>0200418007</td>\n",
       "      <td>AM us</td>\n",
       "      <td>2020-01-29 00:00:00</td>\n",
       "      <td>2020.0</td>\n",
       "      <td>1.930384e+09</td>\n",
       "      <td>2020-01-14</td>\n",
       "      <td>20200110</td>\n",
       "      <td>20200114</td>\n",
       "      <td>20200129.0</td>\n",
       "      <td>USD</td>\n",
       "      <td>RV</td>\n",
       "      <td>1.0</td>\n",
       "      <td>83775.94</td>\n",
       "      <td>20200114.0</td>\n",
       "      <td>NAA8</td>\n",
       "      <td>1.930384e+09</td>\n",
       "      <td>0</td>\n",
       "    </tr>\n",
       "    <tr>\n",
       "      <th>4</th>\n",
       "      <td>U001</td>\n",
       "      <td>0200762301</td>\n",
       "      <td>C&amp;S WH associates</td>\n",
       "      <td>2019-05-29 00:00:00</td>\n",
       "      <td>2019.0</td>\n",
       "      <td>1.929303e+09</td>\n",
       "      <td>2019-05-14</td>\n",
       "      <td>20190512</td>\n",
       "      <td>20190514</td>\n",
       "      <td>20190529.0</td>\n",
       "      <td>USD</td>\n",
       "      <td>RV</td>\n",
       "      <td>1.0</td>\n",
       "      <td>24936.23</td>\n",
       "      <td>20190514.0</td>\n",
       "      <td>NAC6</td>\n",
       "      <td>1.929303e+09</td>\n",
       "      <td>0</td>\n",
       "    </tr>\n",
       "  </tbody>\n",
       "</table>\n",
       "</div>"
      ],
      "text/plain": [
       "  business_code cust_number        name_customer           clear_date  \\\n",
       "0          U001  0100000222  SMITHFIE foundation  2019-05-20 00:00:00   \n",
       "1          CA02  0140104472              MARTIN   2019-03-27 00:00:00   \n",
       "2          CA02  0140104429    COSTCO foundation  2019-02-07 00:00:00   \n",
       "3          U001  0200418007                AM us  2020-01-29 00:00:00   \n",
       "4          U001  0200762301    C&S WH associates  2019-05-29 00:00:00   \n",
       "\n",
       "   buisness_year        doc_id posting_date  document_create_date  \\\n",
       "0         2019.0  1.929285e+09   2019-05-09              20190508   \n",
       "1         2019.0  2.960531e+09   2019-02-26              20190226   \n",
       "2         2019.0  2.960526e+09   2019-01-27              20190127   \n",
       "3         2020.0  1.930384e+09   2020-01-14              20200110   \n",
       "4         2019.0  1.929303e+09   2019-05-14              20190512   \n",
       "\n",
       "   document_create_date.1  due_in_date invoice_currency document type  \\\n",
       "0                20190509   20190524.0              USD            RV   \n",
       "1                20190226   20190318.0              CAD            RV   \n",
       "2                20190127   20190207.0              CAD            RV   \n",
       "3                20200114   20200129.0              USD            RV   \n",
       "4                20190514   20190529.0              USD            RV   \n",
       "\n",
       "   posting_id  total_open_amount  baseline_create_date cust_payment_terms  \\\n",
       "0         1.0           26888.79            20190509.0               NAA8   \n",
       "1         1.0            2963.10            20190308.0               CA10   \n",
       "2         1.0            5379.03            20190128.0               CA10   \n",
       "3         1.0           83775.94            20200114.0               NAA8   \n",
       "4         1.0           24936.23            20190514.0               NAC6   \n",
       "\n",
       "     invoice_id  isOpen  \n",
       "0  1.929285e+09       0  \n",
       "1  2.960531e+09       0  \n",
       "2  2.960526e+09       0  \n",
       "3  1.930384e+09       0  \n",
       "4  1.929303e+09       0  "
      ]
     },
     "execution_count": 10,
     "metadata": {},
     "output_type": "execute_result"
    }
   ],
   "source": [
    "#looking at our dataframe\n",
    "df.head()"
   ]
  },
  {
   "cell_type": "code",
   "execution_count": 11,
   "metadata": {},
   "outputs": [
    {
     "data": {
      "text/plain": [
       "0   2019-05-20\n",
       "1   2019-03-27\n",
       "2   2019-02-07\n",
       "3   2020-01-29\n",
       "4   2019-05-29\n",
       "Name: clear_date, dtype: datetime64[ns]"
      ]
     },
     "execution_count": 11,
     "metadata": {},
     "output_type": "execute_result"
    }
   ],
   "source": [
    "#converting clear_date into datetime format\n",
    "df['clear_date']=pd.to_datetime(df['clear_date'],format='%Y-%m-%d %H:%M:%S')\n",
    "df['clear_date'].head()"
   ]
  },
  {
   "cell_type": "code",
   "execution_count": 12,
   "metadata": {},
   "outputs": [
    {
     "data": {
      "text/plain": [
       "0   2019-05-09\n",
       "1   2019-02-26\n",
       "2   2019-01-27\n",
       "3   2020-01-14\n",
       "4   2019-05-14\n",
       "Name: posting_date, dtype: datetime64[ns]"
      ]
     },
     "execution_count": 12,
     "metadata": {},
     "output_type": "execute_result"
    }
   ],
   "source": [
    "#converting posting_date into datetime format\n",
    "df['posting_date']=pd.to_datetime(df['posting_date'],format='%Y-%m-%d')\n",
    "df['posting_date'].head()"
   ]
  },
  {
   "cell_type": "code",
   "execution_count": 13,
   "metadata": {},
   "outputs": [
    {
     "data": {
      "text/plain": [
       "0   2019-05-24\n",
       "1   2019-03-18\n",
       "2   2019-02-07\n",
       "3   2020-01-29\n",
       "4   2019-05-29\n",
       "Name: due_in_date, dtype: datetime64[ns]"
      ]
     },
     "execution_count": 13,
     "metadata": {},
     "output_type": "execute_result"
    }
   ],
   "source": [
    "#converting due_in_date into datetime format\n",
    "df['due_in_date']=pd.to_datetime(df['due_in_date'],format='%Y%m%d')\n",
    "df['due_in_date'].head()"
   ]
  },
  {
   "cell_type": "code",
   "execution_count": 14,
   "metadata": {},
   "outputs": [
    {
     "data": {
      "text/plain": [
       "0   2019-05-09\n",
       "1   2019-02-26\n",
       "2   2019-01-27\n",
       "3   2020-01-14\n",
       "4   2019-05-14\n",
       "Name: document_create_date.1, dtype: datetime64[ns]"
      ]
     },
     "execution_count": 14,
     "metadata": {},
     "output_type": "execute_result"
    }
   ],
   "source": [
    "#converting document_create_date.1 into datetime format\n",
    "df['document_create_date.1']=pd.to_datetime(df['document_create_date.1'],format='%Y%m%d')\n",
    "df['document_create_date.1'].head()"
   ]
  },
  {
   "cell_type": "code",
   "execution_count": 15,
   "metadata": {},
   "outputs": [
    {
     "data": {
      "text/plain": [
       "0   2019-05-09\n",
       "1   2019-03-08\n",
       "2   2019-01-28\n",
       "3   2020-01-14\n",
       "4   2019-05-14\n",
       "Name: baseline_create_date, dtype: datetime64[ns]"
      ]
     },
     "execution_count": 15,
     "metadata": {},
     "output_type": "execute_result"
    }
   ],
   "source": [
    "#converting baseline_create_date into datetime format\n",
    "df['baseline_create_date']=pd.to_datetime(df['baseline_create_date'],format='%Y%m%d')\n",
    "df['baseline_create_date'].head()"
   ]
  },
  {
   "cell_type": "code",
   "execution_count": 16,
   "metadata": {},
   "outputs": [
    {
     "data": {
      "text/plain": [
       "Index(['business_code', 'cust_number', 'name_customer', 'clear_date',\n",
       "       'buisness_year', 'doc_id', 'posting_date', 'document_create_date',\n",
       "       'document_create_date.1', 'due_in_date', 'invoice_currency',\n",
       "       'document type', 'posting_id', 'total_open_amount',\n",
       "       'baseline_create_date', 'cust_payment_terms', 'invoice_id', 'isOpen'],\n",
       "      dtype='object')"
      ]
     },
     "execution_count": 16,
     "metadata": {},
     "output_type": "execute_result"
    }
   ],
   "source": [
    "#checking the list of columns\n",
    "df.columns"
   ]
  },
  {
   "cell_type": "code",
   "execution_count": 17,
   "metadata": {},
   "outputs": [
    {
     "data": {
      "text/plain": [
       "(49995, 16)"
      ]
     },
     "execution_count": 17,
     "metadata": {},
     "output_type": "execute_result"
    }
   ],
   "source": [
    "#dropping constant features\n",
    "constant_features = [\n",
    "    feat for feat in df.columns if df[feat].nunique() == 1\n",
    "]\n",
    "df.drop(constant_features,axis=1,inplace=True)\n",
    "df.shape"
   ]
  },
  {
   "cell_type": "code",
   "execution_count": 18,
   "metadata": {},
   "outputs": [
    {
     "data": {
      "text/plain": [
       "Index(['business_code', 'cust_number', 'name_customer', 'clear_date',\n",
       "       'buisness_year', 'doc_id', 'posting_date', 'document_create_date',\n",
       "       'document_create_date.1', 'due_in_date', 'invoice_currency',\n",
       "       'total_open_amount', 'baseline_create_date', 'cust_payment_terms',\n",
       "       'invoice_id', 'isOpen'],\n",
       "      dtype='object')"
      ]
     },
     "execution_count": 18,
     "metadata": {},
     "output_type": "execute_result"
    }
   ],
   "source": [
    "#checking again to see which columns were dropped\n",
    "df.columns"
   ]
  },
  {
   "cell_type": "markdown",
   "metadata": {},
   "source": [
    "As documnet_type and posting_id were constant columns they were dropped"
   ]
  },
  {
   "cell_type": "code",
   "execution_count": 19,
   "metadata": {},
   "outputs": [],
   "source": [
    "#function of finding duplicated columns\n",
    "def dropu(df):\n",
    "    duplicatecolumns=set()\n",
    "    for x in range(df.shape[1]):\n",
    "        col1=df.iloc[:,x]\n",
    "        for y in range(x+1,df.shape[1]):\n",
    "            col2=df.iloc[:,y]\n",
    "            if col1.equals(col2):\n",
    "                duplicatecolumns.add(df.columns.values[x])\n",
    "    return list(duplicatecolumns)"
   ]
  },
  {
   "cell_type": "markdown",
   "metadata": {},
   "source": [
    "We could use the inbuilt funcion to drop duplicates as it was taking very long as our dataset has many rows and it was computationally expensive"
   ]
  },
  {
   "cell_type": "code",
   "execution_count": 20,
   "metadata": {},
   "outputs": [
    {
     "data": {
      "text/plain": [
       "['posting_date', 'doc_id']"
      ]
     },
     "execution_count": 20,
     "metadata": {},
     "output_type": "execute_result"
    }
   ],
   "source": [
    "#calling the function and finding the duplicate columns\n",
    "dr=dropu(df)\n",
    "dr"
   ]
  },
  {
   "cell_type": "code",
   "execution_count": 21,
   "metadata": {},
   "outputs": [],
   "source": [
    "#dropping the duplicated columns\n",
    "df.drop(columns=dr,inplace=True)"
   ]
  },
  {
   "cell_type": "code",
   "execution_count": 22,
   "metadata": {},
   "outputs": [
    {
     "data": {
      "text/plain": [
       "(49995, 14)"
      ]
     },
     "execution_count": 22,
     "metadata": {},
     "output_type": "execute_result"
    }
   ],
   "source": [
    "df.shape"
   ]
  },
  {
   "cell_type": "markdown",
   "metadata": {},
   "source": [
    "we see inconsistency between document_create_date and document_create_date.1, so we drop document_create_date"
   ]
  },
  {
   "cell_type": "code",
   "execution_count": 23,
   "metadata": {},
   "outputs": [],
   "source": [
    "#dropping the column document_create_date\n",
    "df.drop(columns=['document_create_date'],inplace=True)"
   ]
  },
  {
   "cell_type": "code",
   "execution_count": 24,
   "metadata": {},
   "outputs": [
    {
     "data": {
      "text/plain": [
       "49995"
      ]
     },
     "execution_count": 24,
     "metadata": {},
     "output_type": "execute_result"
    }
   ],
   "source": [
    "#checking the uniqueness of values in invoice_id\n",
    "df.invoice_id.nunique()"
   ]
  },
  {
   "cell_type": "code",
   "execution_count": 25,
   "metadata": {},
   "outputs": [],
   "source": [
    "#as all the values are unique it is not usefull  for our model hence dropping them\n",
    "df.drop(columns=['invoice_id'],inplace=True)"
   ]
  },
  {
   "cell_type": "code",
   "execution_count": 26,
   "metadata": {},
   "outputs": [
    {
     "data": {
      "text/html": [
       "<div>\n",
       "<style scoped>\n",
       "    .dataframe tbody tr th:only-of-type {\n",
       "        vertical-align: middle;\n",
       "    }\n",
       "\n",
       "    .dataframe tbody tr th {\n",
       "        vertical-align: top;\n",
       "    }\n",
       "\n",
       "    .dataframe thead th {\n",
       "        text-align: right;\n",
       "    }\n",
       "</style>\n",
       "<table border=\"1\" class=\"dataframe\">\n",
       "  <thead>\n",
       "    <tr style=\"text-align: right;\">\n",
       "      <th></th>\n",
       "      <th>business_code</th>\n",
       "      <th>cust_number</th>\n",
       "      <th>name_customer</th>\n",
       "      <th>clear_date</th>\n",
       "      <th>buisness_year</th>\n",
       "      <th>document_create_date.1</th>\n",
       "      <th>due_in_date</th>\n",
       "      <th>invoice_currency</th>\n",
       "      <th>total_open_amount</th>\n",
       "      <th>baseline_create_date</th>\n",
       "      <th>cust_payment_terms</th>\n",
       "      <th>isOpen</th>\n",
       "    </tr>\n",
       "  </thead>\n",
       "  <tbody>\n",
       "    <tr>\n",
       "      <th>0</th>\n",
       "      <td>U001</td>\n",
       "      <td>0100000222</td>\n",
       "      <td>SMITHFIE foundation</td>\n",
       "      <td>2019-05-20</td>\n",
       "      <td>2019.0</td>\n",
       "      <td>2019-05-09</td>\n",
       "      <td>2019-05-24</td>\n",
       "      <td>USD</td>\n",
       "      <td>26888.79</td>\n",
       "      <td>2019-05-09</td>\n",
       "      <td>NAA8</td>\n",
       "      <td>0</td>\n",
       "    </tr>\n",
       "    <tr>\n",
       "      <th>1</th>\n",
       "      <td>CA02</td>\n",
       "      <td>0140104472</td>\n",
       "      <td>MARTIN</td>\n",
       "      <td>2019-03-27</td>\n",
       "      <td>2019.0</td>\n",
       "      <td>2019-02-26</td>\n",
       "      <td>2019-03-18</td>\n",
       "      <td>CAD</td>\n",
       "      <td>2963.10</td>\n",
       "      <td>2019-03-08</td>\n",
       "      <td>CA10</td>\n",
       "      <td>0</td>\n",
       "    </tr>\n",
       "    <tr>\n",
       "      <th>2</th>\n",
       "      <td>CA02</td>\n",
       "      <td>0140104429</td>\n",
       "      <td>COSTCO foundation</td>\n",
       "      <td>2019-02-07</td>\n",
       "      <td>2019.0</td>\n",
       "      <td>2019-01-27</td>\n",
       "      <td>2019-02-07</td>\n",
       "      <td>CAD</td>\n",
       "      <td>5379.03</td>\n",
       "      <td>2019-01-28</td>\n",
       "      <td>CA10</td>\n",
       "      <td>0</td>\n",
       "    </tr>\n",
       "    <tr>\n",
       "      <th>3</th>\n",
       "      <td>U001</td>\n",
       "      <td>0200418007</td>\n",
       "      <td>AM us</td>\n",
       "      <td>2020-01-29</td>\n",
       "      <td>2020.0</td>\n",
       "      <td>2020-01-14</td>\n",
       "      <td>2020-01-29</td>\n",
       "      <td>USD</td>\n",
       "      <td>83775.94</td>\n",
       "      <td>2020-01-14</td>\n",
       "      <td>NAA8</td>\n",
       "      <td>0</td>\n",
       "    </tr>\n",
       "    <tr>\n",
       "      <th>4</th>\n",
       "      <td>U001</td>\n",
       "      <td>0200762301</td>\n",
       "      <td>C&amp;S WH associates</td>\n",
       "      <td>2019-05-29</td>\n",
       "      <td>2019.0</td>\n",
       "      <td>2019-05-14</td>\n",
       "      <td>2019-05-29</td>\n",
       "      <td>USD</td>\n",
       "      <td>24936.23</td>\n",
       "      <td>2019-05-14</td>\n",
       "      <td>NAC6</td>\n",
       "      <td>0</td>\n",
       "    </tr>\n",
       "  </tbody>\n",
       "</table>\n",
       "</div>"
      ],
      "text/plain": [
       "  business_code cust_number        name_customer clear_date  buisness_year  \\\n",
       "0          U001  0100000222  SMITHFIE foundation 2019-05-20         2019.0   \n",
       "1          CA02  0140104472              MARTIN  2019-03-27         2019.0   \n",
       "2          CA02  0140104429    COSTCO foundation 2019-02-07         2019.0   \n",
       "3          U001  0200418007                AM us 2020-01-29         2020.0   \n",
       "4          U001  0200762301    C&S WH associates 2019-05-29         2019.0   \n",
       "\n",
       "  document_create_date.1 due_in_date invoice_currency  total_open_amount  \\\n",
       "0             2019-05-09  2019-05-24              USD           26888.79   \n",
       "1             2019-02-26  2019-03-18              CAD            2963.10   \n",
       "2             2019-01-27  2019-02-07              CAD            5379.03   \n",
       "3             2020-01-14  2020-01-29              USD           83775.94   \n",
       "4             2019-05-14  2019-05-29              USD           24936.23   \n",
       "\n",
       "  baseline_create_date cust_payment_terms  isOpen  \n",
       "0           2019-05-09               NAA8       0  \n",
       "1           2019-03-08               CA10       0  \n",
       "2           2019-01-28               CA10       0  \n",
       "3           2020-01-14               NAA8       0  \n",
       "4           2019-05-14               NAC6       0  "
      ]
     },
     "execution_count": 26,
     "metadata": {},
     "output_type": "execute_result"
    }
   ],
   "source": [
    "#checking our dataframe\n",
    "df.head()"
   ]
  },
  {
   "cell_type": "code",
   "execution_count": 27,
   "metadata": {},
   "outputs": [],
   "source": [
    "#finding the delay which is our target variable\n",
    "df['Delay']=df['clear_date']-df['due_in_date']"
   ]
  },
  {
   "cell_type": "code",
   "execution_count": 28,
   "metadata": {},
   "outputs": [
    {
     "data": {
      "text/html": [
       "<div>\n",
       "<style scoped>\n",
       "    .dataframe tbody tr th:only-of-type {\n",
       "        vertical-align: middle;\n",
       "    }\n",
       "\n",
       "    .dataframe tbody tr th {\n",
       "        vertical-align: top;\n",
       "    }\n",
       "\n",
       "    .dataframe thead th {\n",
       "        text-align: right;\n",
       "    }\n",
       "</style>\n",
       "<table border=\"1\" class=\"dataframe\">\n",
       "  <thead>\n",
       "    <tr style=\"text-align: right;\">\n",
       "      <th></th>\n",
       "      <th>business_code</th>\n",
       "      <th>cust_number</th>\n",
       "      <th>name_customer</th>\n",
       "      <th>clear_date</th>\n",
       "      <th>buisness_year</th>\n",
       "      <th>document_create_date.1</th>\n",
       "      <th>due_in_date</th>\n",
       "      <th>invoice_currency</th>\n",
       "      <th>total_open_amount</th>\n",
       "      <th>baseline_create_date</th>\n",
       "      <th>cust_payment_terms</th>\n",
       "      <th>isOpen</th>\n",
       "      <th>Delay</th>\n",
       "    </tr>\n",
       "  </thead>\n",
       "  <tbody>\n",
       "    <tr>\n",
       "      <th>0</th>\n",
       "      <td>U001</td>\n",
       "      <td>0100000222</td>\n",
       "      <td>SMITHFIE foundation</td>\n",
       "      <td>2019-05-20</td>\n",
       "      <td>2019.0</td>\n",
       "      <td>2019-05-09</td>\n",
       "      <td>2019-05-24</td>\n",
       "      <td>USD</td>\n",
       "      <td>26888.79</td>\n",
       "      <td>2019-05-09</td>\n",
       "      <td>NAA8</td>\n",
       "      <td>0</td>\n",
       "      <td>-4 days</td>\n",
       "    </tr>\n",
       "    <tr>\n",
       "      <th>1</th>\n",
       "      <td>CA02</td>\n",
       "      <td>0140104472</td>\n",
       "      <td>MARTIN</td>\n",
       "      <td>2019-03-27</td>\n",
       "      <td>2019.0</td>\n",
       "      <td>2019-02-26</td>\n",
       "      <td>2019-03-18</td>\n",
       "      <td>CAD</td>\n",
       "      <td>2963.10</td>\n",
       "      <td>2019-03-08</td>\n",
       "      <td>CA10</td>\n",
       "      <td>0</td>\n",
       "      <td>9 days</td>\n",
       "    </tr>\n",
       "    <tr>\n",
       "      <th>2</th>\n",
       "      <td>CA02</td>\n",
       "      <td>0140104429</td>\n",
       "      <td>COSTCO foundation</td>\n",
       "      <td>2019-02-07</td>\n",
       "      <td>2019.0</td>\n",
       "      <td>2019-01-27</td>\n",
       "      <td>2019-02-07</td>\n",
       "      <td>CAD</td>\n",
       "      <td>5379.03</td>\n",
       "      <td>2019-01-28</td>\n",
       "      <td>CA10</td>\n",
       "      <td>0</td>\n",
       "      <td>0 days</td>\n",
       "    </tr>\n",
       "    <tr>\n",
       "      <th>3</th>\n",
       "      <td>U001</td>\n",
       "      <td>0200418007</td>\n",
       "      <td>AM us</td>\n",
       "      <td>2020-01-29</td>\n",
       "      <td>2020.0</td>\n",
       "      <td>2020-01-14</td>\n",
       "      <td>2020-01-29</td>\n",
       "      <td>USD</td>\n",
       "      <td>83775.94</td>\n",
       "      <td>2020-01-14</td>\n",
       "      <td>NAA8</td>\n",
       "      <td>0</td>\n",
       "      <td>0 days</td>\n",
       "    </tr>\n",
       "    <tr>\n",
       "      <th>4</th>\n",
       "      <td>U001</td>\n",
       "      <td>0200762301</td>\n",
       "      <td>C&amp;S WH associates</td>\n",
       "      <td>2019-05-29</td>\n",
       "      <td>2019.0</td>\n",
       "      <td>2019-05-14</td>\n",
       "      <td>2019-05-29</td>\n",
       "      <td>USD</td>\n",
       "      <td>24936.23</td>\n",
       "      <td>2019-05-14</td>\n",
       "      <td>NAC6</td>\n",
       "      <td>0</td>\n",
       "      <td>0 days</td>\n",
       "    </tr>\n",
       "  </tbody>\n",
       "</table>\n",
       "</div>"
      ],
      "text/plain": [
       "  business_code cust_number        name_customer clear_date  buisness_year  \\\n",
       "0          U001  0100000222  SMITHFIE foundation 2019-05-20         2019.0   \n",
       "1          CA02  0140104472              MARTIN  2019-03-27         2019.0   \n",
       "2          CA02  0140104429    COSTCO foundation 2019-02-07         2019.0   \n",
       "3          U001  0200418007                AM us 2020-01-29         2020.0   \n",
       "4          U001  0200762301    C&S WH associates 2019-05-29         2019.0   \n",
       "\n",
       "  document_create_date.1 due_in_date invoice_currency  total_open_amount  \\\n",
       "0             2019-05-09  2019-05-24              USD           26888.79   \n",
       "1             2019-02-26  2019-03-18              CAD            2963.10   \n",
       "2             2019-01-27  2019-02-07              CAD            5379.03   \n",
       "3             2020-01-14  2020-01-29              USD           83775.94   \n",
       "4             2019-05-14  2019-05-29              USD           24936.23   \n",
       "\n",
       "  baseline_create_date cust_payment_terms  isOpen   Delay  \n",
       "0           2019-05-09               NAA8       0 -4 days  \n",
       "1           2019-03-08               CA10       0  9 days  \n",
       "2           2019-01-28               CA10       0  0 days  \n",
       "3           2020-01-14               NAA8       0  0 days  \n",
       "4           2019-05-14               NAC6       0  0 days  "
      ]
     },
     "execution_count": 28,
     "metadata": {},
     "output_type": "execute_result"
    }
   ],
   "source": [
    "df.head()"
   ]
  },
  {
   "cell_type": "code",
   "execution_count": 29,
   "metadata": {},
   "outputs": [],
   "source": [
    "#sorting the dataset on the basis of document_create_data.1\n",
    "df.sort_values(by='document_create_date.1',inplace=True)"
   ]
  },
  {
   "cell_type": "code",
   "execution_count": 30,
   "metadata": {},
   "outputs": [
    {
     "data": {
      "text/plain": [
       "17012"
      ]
     },
     "execution_count": 30,
     "metadata": {},
     "output_type": "execute_result"
    }
   ],
   "source": [
    "#checking if the invoice was cleared before the due date\n",
    "df.Delay[df.Delay.dt.days<0].count()"
   ]
  },
  {
   "cell_type": "code",
   "execution_count": 31,
   "metadata": {},
   "outputs": [],
   "source": [
    "#using lambda and apply to cap the negative values to zero\n",
    "df['Delay']=df.Delay.dt.days.apply(lambda x: 0 if x<0 else x)"
   ]
  },
  {
   "cell_type": "code",
   "execution_count": 32,
   "metadata": {},
   "outputs": [
    {
     "data": {
      "text/plain": [
       "0"
      ]
     },
     "execution_count": 32,
     "metadata": {},
     "output_type": "execute_result"
    }
   ],
   "source": [
    "#chceking again if we have any negative delay values\n",
    "df.Delay[df.Delay<0].count()"
   ]
  },
  {
   "cell_type": "code",
   "execution_count": 33,
   "metadata": {},
   "outputs": [],
   "source": [
    "#sorting the dataset on the basis of document_create_data.1\n",
    "df.sort_values(by='document_create_date.1',inplace=True)"
   ]
  },
  {
   "cell_type": "code",
   "execution_count": 34,
   "metadata": {},
   "outputs": [
    {
     "data": {
      "text/html": [
       "<div>\n",
       "<style scoped>\n",
       "    .dataframe tbody tr th:only-of-type {\n",
       "        vertical-align: middle;\n",
       "    }\n",
       "\n",
       "    .dataframe tbody tr th {\n",
       "        vertical-align: top;\n",
       "    }\n",
       "\n",
       "    .dataframe thead th {\n",
       "        text-align: right;\n",
       "    }\n",
       "</style>\n",
       "<table border=\"1\" class=\"dataframe\">\n",
       "  <thead>\n",
       "    <tr style=\"text-align: right;\">\n",
       "      <th></th>\n",
       "      <th>business_code</th>\n",
       "      <th>cust_number</th>\n",
       "      <th>name_customer</th>\n",
       "      <th>clear_date</th>\n",
       "      <th>buisness_year</th>\n",
       "      <th>document_create_date.1</th>\n",
       "      <th>due_in_date</th>\n",
       "      <th>invoice_currency</th>\n",
       "      <th>total_open_amount</th>\n",
       "      <th>baseline_create_date</th>\n",
       "      <th>cust_payment_terms</th>\n",
       "      <th>isOpen</th>\n",
       "      <th>Delay</th>\n",
       "    </tr>\n",
       "  </thead>\n",
       "  <tbody>\n",
       "    <tr>\n",
       "      <th>7034</th>\n",
       "      <td>U001</td>\n",
       "      <td>0200769623</td>\n",
       "      <td>WAL-MAR corporation</td>\n",
       "      <td>2019-01-09</td>\n",
       "      <td>2019.0</td>\n",
       "      <td>2018-12-30</td>\n",
       "      <td>2019-01-14</td>\n",
       "      <td>USD</td>\n",
       "      <td>14599.04</td>\n",
       "      <td>2018-12-30</td>\n",
       "      <td>NAH4</td>\n",
       "      <td>0</td>\n",
       "      <td>0.0</td>\n",
       "    </tr>\n",
       "    <tr>\n",
       "      <th>18002</th>\n",
       "      <td>U001</td>\n",
       "      <td>0200769623</td>\n",
       "      <td>WAL-MAR</td>\n",
       "      <td>2019-01-09</td>\n",
       "      <td>2019.0</td>\n",
       "      <td>2018-12-30</td>\n",
       "      <td>2019-01-14</td>\n",
       "      <td>USD</td>\n",
       "      <td>4361.22</td>\n",
       "      <td>2018-12-30</td>\n",
       "      <td>NAH4</td>\n",
       "      <td>0</td>\n",
       "      <td>0.0</td>\n",
       "    </tr>\n",
       "    <tr>\n",
       "      <th>34168</th>\n",
       "      <td>U001</td>\n",
       "      <td>0200769623</td>\n",
       "      <td>WAL-MAR systems</td>\n",
       "      <td>2019-01-09</td>\n",
       "      <td>2019.0</td>\n",
       "      <td>2018-12-30</td>\n",
       "      <td>2019-01-14</td>\n",
       "      <td>USD</td>\n",
       "      <td>20173.91</td>\n",
       "      <td>2018-12-30</td>\n",
       "      <td>NAH4</td>\n",
       "      <td>0</td>\n",
       "      <td>0.0</td>\n",
       "    </tr>\n",
       "    <tr>\n",
       "      <th>20162</th>\n",
       "      <td>U001</td>\n",
       "      <td>0200101621</td>\n",
       "      <td>TRA us</td>\n",
       "      <td>2019-01-25</td>\n",
       "      <td>2019.0</td>\n",
       "      <td>2018-12-30</td>\n",
       "      <td>2019-01-14</td>\n",
       "      <td>USD</td>\n",
       "      <td>47019.96</td>\n",
       "      <td>2018-12-30</td>\n",
       "      <td>NAA8</td>\n",
       "      <td>0</td>\n",
       "      <td>11.0</td>\n",
       "    </tr>\n",
       "    <tr>\n",
       "      <th>43956</th>\n",
       "      <td>U001</td>\n",
       "      <td>0200769623</td>\n",
       "      <td>WAL-MAR corporation</td>\n",
       "      <td>2019-01-09</td>\n",
       "      <td>2019.0</td>\n",
       "      <td>2018-12-30</td>\n",
       "      <td>2019-01-14</td>\n",
       "      <td>USD</td>\n",
       "      <td>7497.67</td>\n",
       "      <td>2018-12-30</td>\n",
       "      <td>NAH4</td>\n",
       "      <td>0</td>\n",
       "      <td>0.0</td>\n",
       "    </tr>\n",
       "  </tbody>\n",
       "</table>\n",
       "</div>"
      ],
      "text/plain": [
       "      business_code cust_number        name_customer clear_date  \\\n",
       "7034           U001  0200769623  WAL-MAR corporation 2019-01-09   \n",
       "18002          U001  0200769623             WAL-MAR  2019-01-09   \n",
       "34168          U001  0200769623      WAL-MAR systems 2019-01-09   \n",
       "20162          U001  0200101621               TRA us 2019-01-25   \n",
       "43956          U001  0200769623  WAL-MAR corporation 2019-01-09   \n",
       "\n",
       "       buisness_year document_create_date.1 due_in_date invoice_currency  \\\n",
       "7034          2019.0             2018-12-30  2019-01-14              USD   \n",
       "18002         2019.0             2018-12-30  2019-01-14              USD   \n",
       "34168         2019.0             2018-12-30  2019-01-14              USD   \n",
       "20162         2019.0             2018-12-30  2019-01-14              USD   \n",
       "43956         2019.0             2018-12-30  2019-01-14              USD   \n",
       "\n",
       "       total_open_amount baseline_create_date cust_payment_terms  isOpen  \\\n",
       "7034            14599.04           2018-12-30               NAH4       0   \n",
       "18002            4361.22           2018-12-30               NAH4       0   \n",
       "34168           20173.91           2018-12-30               NAH4       0   \n",
       "20162           47019.96           2018-12-30               NAA8       0   \n",
       "43956            7497.67           2018-12-30               NAH4       0   \n",
       "\n",
       "       Delay  \n",
       "7034     0.0  \n",
       "18002    0.0  \n",
       "34168    0.0  \n",
       "20162   11.0  \n",
       "43956    0.0  "
      ]
     },
     "execution_count": 34,
     "metadata": {},
     "output_type": "execute_result"
    }
   ],
   "source": [
    "df.head()"
   ]
  },
  {
   "cell_type": "markdown",
   "metadata": {},
   "source": [
    "### SPLITTING DATA"
   ]
  },
  {
   "cell_type": "code",
   "execution_count": 35,
   "metadata": {},
   "outputs": [],
   "source": [
    "#storing all the null values of cleardate in test_set as we have to predict them\n",
    "test_set=df[df.clear_date.isnull()].reset_index()"
   ]
  },
  {
   "cell_type": "code",
   "execution_count": 36,
   "metadata": {},
   "outputs": [],
   "source": [
    "#dropping the extra index column made while reseting index\n",
    "test_set.drop(columns='index',inplace=True)\n"
   ]
  },
  {
   "cell_type": "code",
   "execution_count": 37,
   "metadata": {},
   "outputs": [],
   "source": [
    "ts=test_set.copy()"
   ]
  },
  {
   "cell_type": "code",
   "execution_count": 38,
   "metadata": {},
   "outputs": [
    {
     "data": {
      "text/html": [
       "<div>\n",
       "<style scoped>\n",
       "    .dataframe tbody tr th:only-of-type {\n",
       "        vertical-align: middle;\n",
       "    }\n",
       "\n",
       "    .dataframe tbody tr th {\n",
       "        vertical-align: top;\n",
       "    }\n",
       "\n",
       "    .dataframe thead th {\n",
       "        text-align: right;\n",
       "    }\n",
       "</style>\n",
       "<table border=\"1\" class=\"dataframe\">\n",
       "  <thead>\n",
       "    <tr style=\"text-align: right;\">\n",
       "      <th></th>\n",
       "      <th>business_code</th>\n",
       "      <th>cust_number</th>\n",
       "      <th>name_customer</th>\n",
       "      <th>clear_date</th>\n",
       "      <th>buisness_year</th>\n",
       "      <th>document_create_date.1</th>\n",
       "      <th>due_in_date</th>\n",
       "      <th>invoice_currency</th>\n",
       "      <th>total_open_amount</th>\n",
       "      <th>baseline_create_date</th>\n",
       "      <th>cust_payment_terms</th>\n",
       "      <th>isOpen</th>\n",
       "      <th>Delay</th>\n",
       "    </tr>\n",
       "  </thead>\n",
       "  <tbody>\n",
       "    <tr>\n",
       "      <th>0</th>\n",
       "      <td>CA02</td>\n",
       "      <td>0140104240</td>\n",
       "      <td>FEDER associates</td>\n",
       "      <td>NaT</td>\n",
       "      <td>2020.0</td>\n",
       "      <td>2020-02-27</td>\n",
       "      <td>2020-03-10</td>\n",
       "      <td>CAD</td>\n",
       "      <td>8280.91</td>\n",
       "      <td>2020-02-29</td>\n",
       "      <td>CA10</td>\n",
       "      <td>1</td>\n",
       "      <td>NaN</td>\n",
       "    </tr>\n",
       "    <tr>\n",
       "      <th>1</th>\n",
       "      <td>U001</td>\n",
       "      <td>0100021540</td>\n",
       "      <td>MASTER</td>\n",
       "      <td>NaT</td>\n",
       "      <td>2020.0</td>\n",
       "      <td>2020-02-27</td>\n",
       "      <td>2020-03-08</td>\n",
       "      <td>USD</td>\n",
       "      <td>57921.54</td>\n",
       "      <td>2020-02-27</td>\n",
       "      <td>NA10</td>\n",
       "      <td>1</td>\n",
       "      <td>NaN</td>\n",
       "    </tr>\n",
       "    <tr>\n",
       "      <th>2</th>\n",
       "      <td>U001</td>\n",
       "      <td>0200759878</td>\n",
       "      <td>SA</td>\n",
       "      <td>NaT</td>\n",
       "      <td>2020.0</td>\n",
       "      <td>2020-02-27</td>\n",
       "      <td>2020-03-13</td>\n",
       "      <td>USD</td>\n",
       "      <td>31552.06</td>\n",
       "      <td>2020-02-27</td>\n",
       "      <td>NAH4</td>\n",
       "      <td>1</td>\n",
       "      <td>NaN</td>\n",
       "    </tr>\n",
       "    <tr>\n",
       "      <th>3</th>\n",
       "      <td>U001</td>\n",
       "      <td>0200769623</td>\n",
       "      <td>WAL-MAR corp</td>\n",
       "      <td>NaT</td>\n",
       "      <td>2020.0</td>\n",
       "      <td>2020-02-27</td>\n",
       "      <td>2020-03-13</td>\n",
       "      <td>USD</td>\n",
       "      <td>14947.08</td>\n",
       "      <td>2020-02-27</td>\n",
       "      <td>NAH4</td>\n",
       "      <td>1</td>\n",
       "      <td>NaN</td>\n",
       "    </tr>\n",
       "    <tr>\n",
       "      <th>4</th>\n",
       "      <td>U001</td>\n",
       "      <td>0200759878</td>\n",
       "      <td>SA llc</td>\n",
       "      <td>NaT</td>\n",
       "      <td>2020.0</td>\n",
       "      <td>2020-02-27</td>\n",
       "      <td>2020-03-13</td>\n",
       "      <td>USD</td>\n",
       "      <td>8614.36</td>\n",
       "      <td>2020-02-27</td>\n",
       "      <td>NAH4</td>\n",
       "      <td>1</td>\n",
       "      <td>NaN</td>\n",
       "    </tr>\n",
       "  </tbody>\n",
       "</table>\n",
       "</div>"
      ],
      "text/plain": [
       "  business_code cust_number     name_customer clear_date  buisness_year  \\\n",
       "0          CA02  0140104240  FEDER associates        NaT         2020.0   \n",
       "1          U001  0100021540           MASTER         NaT         2020.0   \n",
       "2          U001  0200759878               SA         NaT         2020.0   \n",
       "3          U001  0200769623      WAL-MAR corp        NaT         2020.0   \n",
       "4          U001  0200759878            SA llc        NaT         2020.0   \n",
       "\n",
       "  document_create_date.1 due_in_date invoice_currency  total_open_amount  \\\n",
       "0             2020-02-27  2020-03-10              CAD            8280.91   \n",
       "1             2020-02-27  2020-03-08              USD           57921.54   \n",
       "2             2020-02-27  2020-03-13              USD           31552.06   \n",
       "3             2020-02-27  2020-03-13              USD           14947.08   \n",
       "4             2020-02-27  2020-03-13              USD            8614.36   \n",
       "\n",
       "  baseline_create_date cust_payment_terms  isOpen  Delay  \n",
       "0           2020-02-29               CA10       1    NaN  \n",
       "1           2020-02-27               NA10       1    NaN  \n",
       "2           2020-02-27               NAH4       1    NaN  \n",
       "3           2020-02-27               NAH4       1    NaN  \n",
       "4           2020-02-27               NAH4       1    NaN  "
      ]
     },
     "execution_count": 38,
     "metadata": {},
     "output_type": "execute_result"
    }
   ],
   "source": [
    "test_set.head()"
   ]
  },
  {
   "cell_type": "code",
   "execution_count": 39,
   "metadata": {},
   "outputs": [
    {
     "data": {
      "text/plain": [
       "business_code             0\n",
       "cust_number               0\n",
       "name_customer             0\n",
       "clear_date                0\n",
       "buisness_year             0\n",
       "document_create_date.1    0\n",
       "due_in_date               0\n",
       "invoice_currency          0\n",
       "total_open_amount         0\n",
       "baseline_create_date      0\n",
       "cust_payment_terms        0\n",
       "isOpen                    0\n",
       "Delay                     0\n",
       "dtype: int64"
      ]
     },
     "execution_count": 39,
     "metadata": {},
     "output_type": "execute_result"
    }
   ],
   "source": [
    "#dropping the null values of clear_date from our dataset and then checking for null values in \n",
    "df.dropna(subset=['clear_date'],inplace=True)\n",
    "df.isnull().sum()"
   ]
  },
  {
   "cell_type": "code",
   "execution_count": 40,
   "metadata": {},
   "outputs": [
    {
     "data": {
      "text/plain": [
       "(46349, 13)"
      ]
     },
     "execution_count": 40,
     "metadata": {},
     "output_type": "execute_result"
    }
   ],
   "source": [
    "df.shape"
   ]
  },
  {
   "cell_type": "code",
   "execution_count": 41,
   "metadata": {},
   "outputs": [],
   "source": [
    "#splitting the dataset in 70% and 30% as the training data is gonna be 70%\n",
    "df_train,df_val=train_test_split(df,test_size=.30,shuffle=False,random_state=9)"
   ]
  },
  {
   "cell_type": "code",
   "execution_count": 42,
   "metadata": {},
   "outputs": [
    {
     "data": {
      "text/plain": [
       "((32444, 13), (13905, 13))"
      ]
     },
     "execution_count": 42,
     "metadata": {},
     "output_type": "execute_result"
    }
   ],
   "source": [
    "#checking if the splitting was done correctly\n",
    "df_train.shape,df_val.shape"
   ]
  },
  {
   "cell_type": "code",
   "execution_count": 43,
   "metadata": {},
   "outputs": [],
   "source": [
    "#splitting the rest 30% in 50:50 one for hyperparameter tuning and the other for testing \n",
    "df_val1,df_val2=train_test_split(df_val,test_size=.50,shuffle=False,random_state=2)"
   ]
  },
  {
   "cell_type": "code",
   "execution_count": 44,
   "metadata": {},
   "outputs": [
    {
     "data": {
      "text/plain": [
       "((6952, 13), (6953, 13))"
      ]
     },
     "execution_count": 44,
     "metadata": {},
     "output_type": "execute_result"
    }
   ],
   "source": [
    "#chceking their shape again to see if it was done correctly\n",
    "df_val1.shape,df_val2.shape"
   ]
  },
  {
   "cell_type": "markdown",
   "metadata": {},
   "source": [
    "### EDA"
   ]
  },
  {
   "cell_type": "code",
   "execution_count": 45,
   "metadata": {},
   "outputs": [
    {
     "data": {
      "text/plain": [
       "U001    29222\n",
       "CA02     2626\n",
       "U013      467\n",
       "U002      116\n",
       "U005       10\n",
       "U007        3\n",
       "Name: business_code, dtype: int64"
      ]
     },
     "execution_count": 45,
     "metadata": {},
     "output_type": "execute_result"
    }
   ],
   "source": [
    "#counting the no of unique values occur in business_code\n",
    "df_train.business_code.value_counts()"
   ]
  },
  {
   "cell_type": "markdown",
   "metadata": {},
   "source": [
    "As we can see that there only 6 unique business codes so we can use some encoding on it during feature engineering"
   ]
  },
  {
   "cell_type": "code",
   "execution_count": 46,
   "metadata": {},
   "outputs": [
    {
     "data": {
      "text/plain": [
       "<matplotlib.axes._subplots.AxesSubplot at 0x20d39880128>"
      ]
     },
     "execution_count": 46,
     "metadata": {},
     "output_type": "execute_result"
    },
    {
     "data": {
      "image/png": "[encoded data removed]",
      "text/plain": [
       "<Figure size 432x288 with 1 Axes>"
      ]
     },
     "metadata": {},
     "output_type": "display_data"
    }
   ],
   "source": [
    "#plotting those values in a graph using countplot\n",
    "sns.countplot(x = df_train['business_code'])"
   ]
  },
  {
   "cell_type": "code",
   "execution_count": 47,
   "metadata": {},
   "outputs": [
    {
     "data": {
      "text/plain": [
       "0200769623    6958\n",
       "0200726979    1168\n",
       "0200762301     991\n",
       "0200759878     799\n",
       "200769623      714\n",
       "0200794332     704\n",
       "0200744019     622\n",
       "0200772670     581\n",
       "0200705742     522\n",
       "CCU013         476\n",
       "0200707822     455\n",
       "CCCA02         384\n",
       "0140106408     352\n",
       "0200418007     342\n",
       "0140104409     325\n",
       "0200780383     286\n",
       "0140104429     278\n",
       "0100031704     270\n",
       "0200803720     264\n",
       "0200761734     250\n",
       "0200416837     248\n",
       "0200230690     244\n",
       "0200799367     243\n",
       "0200706844     226\n",
       "0200936373     225\n",
       "0140105686     219\n",
       "0200353024     219\n",
       "0200772595     216\n",
       "0200793568     208\n",
       "0200974851     201\n",
       "              ... \n",
       "0200687594       1\n",
       "0100052151       1\n",
       "200769556        1\n",
       "0100056786       1\n",
       "0140104729       1\n",
       "0200058206       1\n",
       "0200686200       1\n",
       "0140103415       1\n",
       "0200067753       1\n",
       "100012991        1\n",
       "0200739074       1\n",
       "0100030934       1\n",
       "0200754142       1\n",
       "0100028237       1\n",
       "0200397176       1\n",
       "0200481695       1\n",
       "0100043963       1\n",
       "100027362        1\n",
       "100030443        1\n",
       "100035306        1\n",
       "100047417        1\n",
       "100036486        1\n",
       "200958768        1\n",
       "0140103496       1\n",
       "0200342745       1\n",
       "0100052284       1\n",
       "0100043964       1\n",
       "200472708        1\n",
       "140105578        1\n",
       "CC6964           1\n",
       "Name: cust_number, Length: 1329, dtype: int64"
      ]
     },
     "execution_count": 47,
     "metadata": {},
     "output_type": "execute_result"
    }
   ],
   "source": [
    "#counting the no of unique values occur in cust_number\n",
    "df_train.cust_number.value_counts()"
   ]
  },
  {
   "cell_type": "code",
   "execution_count": 48,
   "metadata": {},
   "outputs": [
    {
     "data": {
      "text/plain": [
       "WAL-MAR co              754\n",
       "WAL-MAR us              711\n",
       "WAL-MAR in              711\n",
       "WAL-MAR corp            710\n",
       "WAL-MAR systems         702\n",
       "WAL-MAR associates      697\n",
       "WAL-MAR                 687\n",
       "WAL-MAR corporation     682\n",
       "WAL-MAR llc             681\n",
       "WAL-MAR trust           674\n",
       "WAL-MAR foundation      663\n",
       "BJ'S  in                136\n",
       "BJ'S  corporation       128\n",
       "BJ'S  llc               121\n",
       "BJ'S  us                120\n",
       "BJ'S  foundation        113\n",
       "BJ'S  trust             113\n",
       "BJ'S  systems           112\n",
       "BJ'S  co                110\n",
       "C&S WH systems          109\n",
       "SA corp                 109\n",
       "C&S WH corp             106\n",
       "C&S WH corporation      105\n",
       "BJ'S                    105\n",
       "C&S WH in               105\n",
       "BJ'S  corp              104\n",
       "BJ'S  associates        104\n",
       "SA us                   103\n",
       "SA systems              103\n",
       "SA foundation           102\n",
       "                       ... \n",
       "KITCH corp                1\n",
       "RESTO                     1\n",
       "SING associates           1\n",
       "CUSTOMI systems           1\n",
       "CJR WH associates         1\n",
       "PRIM corp                 1\n",
       "CJR WH trust              1\n",
       "CTI  llc                  1\n",
       "CORE-M corporation        1\n",
       "BIG us                    1\n",
       "MARC co                   1\n",
       "CUSTOMI foundation        1\n",
       "BI MA in                  1\n",
       "GREEN  in                 1\n",
       "BURR associates           1\n",
       "CALD associates           1\n",
       "GLOBA corporation         1\n",
       "TANKER llc                1\n",
       "TOUC foundation           1\n",
       "LAKE corporation          1\n",
       "HEI us                    1\n",
       "NATURA systems            1\n",
       "J &  in                   1\n",
       "OLLIE                     1\n",
       "PAPA foundation           1\n",
       "ATLANTA  corporation      1\n",
       "AOF SER us                1\n",
       "SIMPLO corp               1\n",
       "D foundation              1\n",
       "HACKN systems             1\n",
       "Name: name_customer, Length: 3630, dtype: int64"
      ]
     },
     "execution_count": 48,
     "metadata": {},
     "output_type": "execute_result"
    }
   ],
   "source": [
    "#counting the no of unique values occur in name_customer\n",
    "df_train.name_customer.value_counts()"
   ]
  },
  {
   "cell_type": "markdown",
   "metadata": {},
   "source": [
    "After looking at the data we find that all the sub branches of a company have the same customer number.For ex all the companies under WAL-MAR have the same customer number but different names. So we can drop the customer name column as encoding it is also going to be difficult"
   ]
  },
  {
   "cell_type": "code",
   "execution_count": 49,
   "metadata": {},
   "outputs": [
    {
     "data": {
      "text/plain": [
       "3630"
      ]
     },
     "execution_count": 49,
     "metadata": {},
     "output_type": "execute_result"
    }
   ],
   "source": [
    "#checking how many customers only interacted with us once\n",
    "(df_train.name_customer.value_counts()==1).count()"
   ]
  },
  {
   "cell_type": "code",
   "execution_count": 50,
   "metadata": {},
   "outputs": [
    {
     "name": "stdout",
     "output_type": "stream",
     "text": [
      "<class 'pandas.core.frame.DataFrame'>\n",
      "Int64Index: 46349 entries, 7034 to 24662\n",
      "Data columns (total 13 columns):\n",
      "business_code             46349 non-null object\n",
      "cust_number               46349 non-null object\n",
      "name_customer             46349 non-null object\n",
      "clear_date                46349 non-null datetime64[ns]\n",
      "buisness_year             46349 non-null float64\n",
      "document_create_date.1    46349 non-null datetime64[ns]\n",
      "due_in_date               46349 non-null datetime64[ns]\n",
      "invoice_currency          46349 non-null object\n",
      "total_open_amount         46349 non-null float64\n",
      "baseline_create_date      46349 non-null datetime64[ns]\n",
      "cust_payment_terms        46349 non-null object\n",
      "isOpen                    46349 non-null int64\n",
      "Delay                     46349 non-null float64\n",
      "dtypes: datetime64[ns](4), float64(3), int64(1), object(5)\n",
      "memory usage: 5.0+ MB\n"
     ]
    }
   ],
   "source": [
    "#checking the info\n",
    "df.info()"
   ]
  },
  {
   "cell_type": "code",
   "execution_count": 51,
   "metadata": {},
   "outputs": [
    {
     "data": {
      "text/plain": [
       "0    32444\n",
       "Name: isOpen, dtype: int64"
      ]
     },
     "execution_count": 51,
     "metadata": {},
     "output_type": "execute_result"
    }
   ],
   "source": [
    "#counting the no of unique values occur in isOpen\n",
    "df_train.isOpen.value_counts()"
   ]
  },
  {
   "cell_type": "markdown",
   "metadata": {},
   "source": [
    "As we can see all the values where clear_date is available the isOpen column is 0 therefore we can conclude that where the clear_date is null the invoice has not been cleared hence this wont be contributing during the model"
   ]
  },
  {
   "cell_type": "code",
   "execution_count": 52,
   "metadata": {},
   "outputs": [
    {
     "name": "stderr",
     "output_type": "stream",
     "text": [
      "C:\\Users\\KIIT\\Anaconda3\\lib\\site-packages\\pandas\\core\\frame.py:3694: SettingWithCopyWarning: \n",
      "A value is trying to be set on a copy of a slice from a DataFrame\n",
      "\n",
      "See the caveats in the documentation: http://pandas.pydata.org/pandas-docs/stable/indexing.html#indexing-view-versus-copy\n",
      "  errors=errors)\n"
     ]
    }
   ],
   "source": [
    "#dropping the isOpen column\n",
    "df_train.drop(columns='isOpen',inplace=True)"
   ]
  },
  {
   "cell_type": "code",
   "execution_count": 53,
   "metadata": {},
   "outputs": [
    {
     "data": {
      "text/plain": [
       "<matplotlib.axes._subplots.AxesSubplot at 0x20d3a93c320>"
      ]
     },
     "execution_count": 53,
     "metadata": {},
     "output_type": "execute_result"
    },
    {
     "data": {
      "image/png": "[encoded data removed]",
      "text/plain": [
       "<Figure size 432x288 with 1 Axes>"
      ]
     },
     "metadata": {},
     "output_type": "display_data"
    }
   ],
   "source": [
    "#plotting the clear_date using countplot as we sorted the data according to date so we can check if there is any relation between them\n",
    "sns.countplot(x = df_train['clear_date'])"
   ]
  },
  {
   "cell_type": "code",
   "execution_count": 54,
   "metadata": {},
   "outputs": [
    {
     "data": {
      "text/plain": [
       "(32444, 12)"
      ]
     },
     "execution_count": 54,
     "metadata": {},
     "output_type": "execute_result"
    }
   ],
   "source": [
    "df_train.shape\n",
    "#checking the shape"
   ]
  },
  {
   "cell_type": "code",
   "execution_count": 55,
   "metadata": {},
   "outputs": [
    {
     "data": {
      "text/plain": [
       "count     32444.000000\n",
       "mean      31569.695381\n",
       "std       39705.654852\n",
       "min           2.120000\n",
       "25%        4383.300000\n",
       "50%       16710.665000\n",
       "75%       45640.430000\n",
       "max      895315.200000\n",
       "Name: total_open_amount, dtype: float64"
      ]
     },
     "execution_count": 55,
     "metadata": {},
     "output_type": "execute_result"
    }
   ],
   "source": [
    "df_train.total_open_amount.describe()\n",
    "#decribing the total open amount that is checking its mean mode etc"
   ]
  },
  {
   "cell_type": "code",
   "execution_count": 56,
   "metadata": {},
   "outputs": [],
   "source": [
    "#binning the total open amount\n",
    "amount_bins = [0,5000,10000,50000,100000,900000]\n",
    "open_amount_bin = pd.cut(df_train.total_open_amount, bins = amount_bins)"
   ]
  },
  {
   "cell_type": "code",
   "execution_count": 57,
   "metadata": {},
   "outputs": [
    {
     "data": {
      "text/plain": [
       "(10000, 50000]      13288\n",
       "(0, 5000]            8609\n",
       "(50000, 100000]      5177\n",
       "(5000, 10000]        3258\n",
       "(100000, 900000]     2112\n",
       "Name: total_open_amount, dtype: int64"
      ]
     },
     "execution_count": 57,
     "metadata": {},
     "output_type": "execute_result"
    }
   ],
   "source": [
    "#checking to see how much each bin contains\n",
    "open_amount_bin.value_counts()"
   ]
  },
  {
   "cell_type": "code",
   "execution_count": 58,
   "metadata": {},
   "outputs": [
    {
     "data": {
      "text/plain": [
       "<matplotlib.axes._subplots.AxesSubplot at 0x20d3b20f0f0>"
      ]
     },
     "execution_count": 58,
     "metadata": {},
     "output_type": "execute_result"
    },
    {
     "data": {
      "image/png": "[encoded data removed]",
      "text/plain": [
       "<Figure size 432x288 with 1 Axes>"
      ]
     },
     "metadata": {},
     "output_type": "display_data"
    }
   ],
   "source": [
    "#plotting the bins for better visualisation\n",
    "sns.countplot(x=open_amount_bin, palette=\"hls\")"
   ]
  },
  {
   "cell_type": "markdown",
   "metadata": {},
   "source": [
    "Here we can see although the last bin is very big the no of transaction of that amount are the least. Also the total_open amount between 10000-50000 is the largest so that is amount where max transations takes place"
   ]
  },
  {
   "cell_type": "code",
   "execution_count": 59,
   "metadata": {},
   "outputs": [
    {
     "data": {
      "text/html": [
       "<div>\n",
       "<style scoped>\n",
       "    .dataframe tbody tr th:only-of-type {\n",
       "        vertical-align: middle;\n",
       "    }\n",
       "\n",
       "    .dataframe tbody tr th {\n",
       "        vertical-align: top;\n",
       "    }\n",
       "\n",
       "    .dataframe thead th {\n",
       "        text-align: right;\n",
       "    }\n",
       "</style>\n",
       "<table border=\"1\" class=\"dataframe\">\n",
       "  <thead>\n",
       "    <tr style=\"text-align: right;\">\n",
       "      <th></th>\n",
       "      <th>business_code</th>\n",
       "      <th>cust_number</th>\n",
       "      <th>name_customer</th>\n",
       "      <th>clear_date</th>\n",
       "      <th>buisness_year</th>\n",
       "      <th>document_create_date.1</th>\n",
       "      <th>due_in_date</th>\n",
       "      <th>invoice_currency</th>\n",
       "      <th>total_open_amount</th>\n",
       "      <th>baseline_create_date</th>\n",
       "      <th>cust_payment_terms</th>\n",
       "      <th>Delay</th>\n",
       "    </tr>\n",
       "  </thead>\n",
       "  <tbody>\n",
       "    <tr>\n",
       "      <th>8384</th>\n",
       "      <td>CA02</td>\n",
       "      <td>0140105847</td>\n",
       "      <td>GORDON F co</td>\n",
       "      <td>2019-01-21</td>\n",
       "      <td>2019.0</td>\n",
       "      <td>2018-12-30</td>\n",
       "      <td>2019-01-10</td>\n",
       "      <td>CAD</td>\n",
       "      <td>795.20</td>\n",
       "      <td>2018-12-31</td>\n",
       "      <td>CA10</td>\n",
       "      <td>11.0</td>\n",
       "    </tr>\n",
       "    <tr>\n",
       "      <th>2985</th>\n",
       "      <td>CA02</td>\n",
       "      <td>0140105686</td>\n",
       "      <td>SYSC corporation</td>\n",
       "      <td>2019-01-17</td>\n",
       "      <td>2019.0</td>\n",
       "      <td>2018-12-31</td>\n",
       "      <td>2019-01-13</td>\n",
       "      <td>CAD</td>\n",
       "      <td>10704.22</td>\n",
       "      <td>2019-01-03</td>\n",
       "      <td>CA10</td>\n",
       "      <td>4.0</td>\n",
       "    </tr>\n",
       "    <tr>\n",
       "      <th>26587</th>\n",
       "      <td>CA02</td>\n",
       "      <td>0140104429</td>\n",
       "      <td>COSTCO trust</td>\n",
       "      <td>2019-01-18</td>\n",
       "      <td>2019.0</td>\n",
       "      <td>2018-12-31</td>\n",
       "      <td>2019-01-13</td>\n",
       "      <td>CAD</td>\n",
       "      <td>1019.54</td>\n",
       "      <td>2019-01-03</td>\n",
       "      <td>CA10</td>\n",
       "      <td>5.0</td>\n",
       "    </tr>\n",
       "    <tr>\n",
       "      <th>9327</th>\n",
       "      <td>CA02</td>\n",
       "      <td>0140105847</td>\n",
       "      <td>GORDON F foundation</td>\n",
       "      <td>2019-01-14</td>\n",
       "      <td>2019.0</td>\n",
       "      <td>2018-12-31</td>\n",
       "      <td>2019-01-12</td>\n",
       "      <td>CAD</td>\n",
       "      <td>5345.00</td>\n",
       "      <td>2019-01-02</td>\n",
       "      <td>CA10</td>\n",
       "      <td>2.0</td>\n",
       "    </tr>\n",
       "    <tr>\n",
       "      <th>8786</th>\n",
       "      <td>CA02</td>\n",
       "      <td>0140104429</td>\n",
       "      <td>COSTCO foundation</td>\n",
       "      <td>2019-01-18</td>\n",
       "      <td>2019.0</td>\n",
       "      <td>2018-12-31</td>\n",
       "      <td>2019-01-19</td>\n",
       "      <td>CAD</td>\n",
       "      <td>8938.18</td>\n",
       "      <td>2019-01-09</td>\n",
       "      <td>CA10</td>\n",
       "      <td>0.0</td>\n",
       "    </tr>\n",
       "  </tbody>\n",
       "</table>\n",
       "</div>"
      ],
      "text/plain": [
       "      business_code cust_number        name_customer clear_date  \\\n",
       "8384           CA02  0140105847          GORDON F co 2019-01-21   \n",
       "2985           CA02  0140105686     SYSC corporation 2019-01-17   \n",
       "26587          CA02  0140104429         COSTCO trust 2019-01-18   \n",
       "9327           CA02  0140105847  GORDON F foundation 2019-01-14   \n",
       "8786           CA02  0140104429    COSTCO foundation 2019-01-18   \n",
       "\n",
       "       buisness_year document_create_date.1 due_in_date invoice_currency  \\\n",
       "8384          2019.0             2018-12-30  2019-01-10              CAD   \n",
       "2985          2019.0             2018-12-31  2019-01-13              CAD   \n",
       "26587         2019.0             2018-12-31  2019-01-13              CAD   \n",
       "9327          2019.0             2018-12-31  2019-01-12              CAD   \n",
       "8786          2019.0             2018-12-31  2019-01-19              CAD   \n",
       "\n",
       "       total_open_amount baseline_create_date cust_payment_terms  Delay  \n",
       "8384              795.20           2018-12-31               CA10   11.0  \n",
       "2985            10704.22           2019-01-03               CA10    4.0  \n",
       "26587            1019.54           2019-01-03               CA10    5.0  \n",
       "9327             5345.00           2019-01-02               CA10    2.0  \n",
       "8786             8938.18           2019-01-09               CA10    0.0  "
      ]
     },
     "execution_count": 59,
     "metadata": {},
     "output_type": "execute_result"
    }
   ],
   "source": [
    "#chceking the for how many values baseline_create_date is different from documnet create date\n",
    "baseline_set = df_train.loc[df_train[\"document_create_date.1\"]!=df_train[\"baseline_create_date\"]]\n",
    "baseline_set.head()"
   ]
  },
  {
   "cell_type": "markdown",
   "metadata": {},
   "source": [
    "There are just above 3500 values where they are not the same. And if we see in the first glance it looks like if the company is canadian there is a delay in filing the document and creating an invoice. So we can drop it as it is mostly same as document create date"
   ]
  },
  {
   "cell_type": "code",
   "execution_count": 60,
   "metadata": {},
   "outputs": [
    {
     "data": {
      "text/html": [
       "<div>\n",
       "<style scoped>\n",
       "    .dataframe tbody tr th:only-of-type {\n",
       "        vertical-align: middle;\n",
       "    }\n",
       "\n",
       "    .dataframe tbody tr th {\n",
       "        vertical-align: top;\n",
       "    }\n",
       "\n",
       "    .dataframe thead th {\n",
       "        text-align: right;\n",
       "    }\n",
       "</style>\n",
       "<table border=\"1\" class=\"dataframe\">\n",
       "  <thead>\n",
       "    <tr style=\"text-align: right;\">\n",
       "      <th></th>\n",
       "      <th>buisness_year</th>\n",
       "      <th>total_open_amount</th>\n",
       "      <th>Delay</th>\n",
       "    </tr>\n",
       "  </thead>\n",
       "  <tbody>\n",
       "    <tr>\n",
       "      <th>buisness_year</th>\n",
       "      <td>NaN</td>\n",
       "      <td>NaN</td>\n",
       "      <td>NaN</td>\n",
       "    </tr>\n",
       "    <tr>\n",
       "      <th>total_open_amount</th>\n",
       "      <td>NaN</td>\n",
       "      <td>1.000000</td>\n",
       "      <td>-0.047061</td>\n",
       "    </tr>\n",
       "    <tr>\n",
       "      <th>Delay</th>\n",
       "      <td>NaN</td>\n",
       "      <td>-0.047061</td>\n",
       "      <td>1.000000</td>\n",
       "    </tr>\n",
       "  </tbody>\n",
       "</table>\n",
       "</div>"
      ],
      "text/plain": [
       "                   buisness_year  total_open_amount     Delay\n",
       "buisness_year                NaN                NaN       NaN\n",
       "total_open_amount            NaN           1.000000 -0.047061\n",
       "Delay                        NaN          -0.047061  1.000000"
      ]
     },
     "execution_count": 60,
     "metadata": {},
     "output_type": "execute_result"
    }
   ],
   "source": [
    "#findng the correlation\n",
    "df_train.corr()"
   ]
  },
  {
   "cell_type": "code",
   "execution_count": 61,
   "metadata": {},
   "outputs": [
    {
     "data": {
      "text/plain": [
       "<seaborn.axisgrid.PairGrid at 0x20d3c9b9550>"
      ]
     },
     "execution_count": 61,
     "metadata": {},
     "output_type": "execute_result"
    },
    {
     "data": {
      "image/png": "[encoded data removed]",
      "text/plain": [
       "<Figure size 864x864 with 12 Axes>"
      ]
     },
     "metadata": {},
     "output_type": "display_data"
    }
   ],
   "source": [
    "#we plotted the numeric values against all numeric values so see visualise the correlation better\n",
    "sns.pairplot(df_train, size=4)"
   ]
  },
  {
   "cell_type": "markdown",
   "metadata": {},
   "source": [
    "As we can see from the graphs above that total open amount increases the delay decreases and for some values of total open amount the delay is very big those can be considered as outliers.\n",
    "The conclusion we derived from the graph is hence proven here by the negative coorelation."
   ]
  },
  {
   "cell_type": "code",
   "execution_count": 62,
   "metadata": {},
   "outputs": [
    {
     "data": {
      "text/plain": [
       "business_code  invoice_currency\n",
       "CA02           CAD                  2626\n",
       "U001           USD                 29222\n",
       "U002           USD                   116\n",
       "U005           USD                    10\n",
       "U007           USD                     3\n",
       "U013           USD                   467\n",
       "Name: invoice_currency, dtype: int64"
      ]
     },
     "execution_count": 62,
     "metadata": {},
     "output_type": "execute_result"
    }
   ],
   "source": [
    "#grouping by business code and invoice currency to understand the relation\n",
    "df_train.groupby(\"business_code\").invoice_currency.value_counts()"
   ]
  },
  {
   "cell_type": "markdown",
   "metadata": {},
   "source": [
    "As we can see the most of the transactions are made in USD and even if we change the CAD to USD it wont be making much of a difference hence we can drop invoice currency. Also from the above table we see that business code first letter decribes in which currency the transaction took place and hence we can either keep invoice currency or business code. I believe dropping the business code will be better as if we perform one hot encoding on business code it will result in 6 different columns while if we do the same on invoice currency it will give us only 2 diff columns which will be easier to handle"
   ]
  },
  {
   "cell_type": "code",
   "execution_count": 63,
   "metadata": {},
   "outputs": [
    {
     "data": {
      "text/plain": [
       "cust_number\n",
       "0100000048     94357.476667\n",
       "0100000051     35846.906667\n",
       "0100000158     39144.040000\n",
       "0100000161      1806.080000\n",
       "0100000217     23027.800000\n",
       "0100000222     22820.273333\n",
       "0100000533       625.000000\n",
       "0100000933      3602.440000\n",
       "0100001196     16897.136545\n",
       "0100001222     12019.895000\n",
       "0100001452      7822.316667\n",
       "0100001659      9145.125000\n",
       "0100003615      2908.680000\n",
       "0100003908      3135.020000\n",
       "0100004335     54586.620000\n",
       "0100004536     33642.285385\n",
       "0100004744     52593.620000\n",
       "0100005721     32810.603333\n",
       "0100005765     38730.500000\n",
       "0100006176     21312.360000\n",
       "0100006311     21153.823333\n",
       "0100006671     79308.000000\n",
       "0100006823     16432.200000\n",
       "0100006871      5098.450000\n",
       "0100007796      1754.650000\n",
       "0100007916     10588.125714\n",
       "0100008001     18705.425000\n",
       "0100008347     13535.120000\n",
       "0100009152      6530.850000\n",
       "0100009866     13138.400000\n",
       "                  ...      \n",
       "200920735      75027.476000\n",
       "200936373      60218.727333\n",
       "200942148      16124.400000\n",
       "200956366       9652.000000\n",
       "200958768      61842.400000\n",
       "200965912     121618.050000\n",
       "200966902      28394.910000\n",
       "200974851       2502.815385\n",
       "200978592      45464.618000\n",
       "200980828      35576.653333\n",
       "200982294      71477.050000\n",
       "200984655      23728.650000\n",
       "200986966       7089.600000\n",
       "CC3411         12711.457500\n",
       "CC3620         14537.936429\n",
       "CC5050         23416.943333\n",
       "CC5102         15944.610000\n",
       "CC6000         15695.600000\n",
       "CC6050         34379.934211\n",
       "CC6530         17260.705625\n",
       "CC6600         20142.737727\n",
       "CC6964         11528.040000\n",
       "CC7080         50003.314000\n",
       "CC7420        155058.360000\n",
       "CC7455         13919.265000\n",
       "CC7470         19237.635000\n",
       "CCCA02         23645.885130\n",
       "CCU001         35998.765556\n",
       "CCU002         30452.040000\n",
       "CCU013         13005.838172\n",
       "Name: total_open_amount, Length: 1329, dtype: float64"
      ]
     },
     "execution_count": 63,
     "metadata": {},
     "output_type": "execute_result"
    }
   ],
   "source": [
    "#grouping by cust_number and total_open_amount\n",
    "df_train.groupby('cust_number').total_open_amount.mean()"
   ]
  },
  {
   "cell_type": "code",
   "execution_count": 64,
   "metadata": {},
   "outputs": [
    {
     "name": "stderr",
     "output_type": "stream",
     "text": [
      "C:\\Users\\KIIT\\Anaconda3\\lib\\site-packages\\ipykernel_launcher.py:2: SettingWithCopyWarning: \n",
      "A value is trying to be set on a copy of a slice from a DataFrame.\n",
      "Try using .loc[row_indexer,col_indexer] = value instead\n",
      "\n",
      "See the caveats in the documentation: http://pandas.pydata.org/pandas-docs/stable/indexing.html#indexing-view-versus-copy\n",
      "  \n"
     ]
    }
   ],
   "source": [
    "#extracting the month of the document create date and storing it in a new column\n",
    "df_train['document_create_month']=df_train['document_create_date.1'].dt.month"
   ]
  },
  {
   "cell_type": "code",
   "execution_count": 65,
   "metadata": {},
   "outputs": [],
   "source": [
    "#grouping by document_create_month and Delay to find the mean delay\n",
    "k=df_train.groupby('document_create_month')['Delay'].mean()"
   ]
  },
  {
   "cell_type": "code",
   "execution_count": 66,
   "metadata": {},
   "outputs": [
    {
     "data": {
      "text/plain": [
       "document_create_month\n",
       "1     3.324077\n",
       "2     3.425937\n",
       "3     3.111698\n",
       "4     3.091660\n",
       "5     2.850306\n",
       "6     3.349564\n",
       "7     2.679240\n",
       "8     2.573059\n",
       "9     2.759545\n",
       "10    3.432836\n",
       "12    2.257143\n",
       "Name: Delay, dtype: float64"
      ]
     },
     "execution_count": 66,
     "metadata": {},
     "output_type": "execute_result"
    }
   ],
   "source": [
    "k"
   ]
  },
  {
   "cell_type": "code",
   "execution_count": 67,
   "metadata": {},
   "outputs": [
    {
     "data": {
      "text/plain": [
       "<matplotlib.axes._subplots.AxesSubplot at 0x20d3ce66908>"
      ]
     },
     "execution_count": 67,
     "metadata": {},
     "output_type": "execute_result"
    },
    {
     "data": {
      "image/png": "[encoded data removed]",
      "text/plain": [
       "<Figure size 432x288 with 1 Axes>"
      ]
     },
     "metadata": {},
     "output_type": "display_data"
    }
   ],
   "source": [
    "k.plot(legend=True)\n",
    "#plotting mean delay against create month"
   ]
  },
  {
   "cell_type": "code",
   "execution_count": 68,
   "metadata": {},
   "outputs": [
    {
     "data": {
      "text/plain": [
       "<matplotlib.collections.PathCollection at 0x20d3d12a9e8>"
      ]
     },
     "execution_count": 68,
     "metadata": {},
     "output_type": "execute_result"
    },
    {
     "data": {
      "image/png": "[encoded data removed]",
      "text/plain": [
       "<Figure size 432x288 with 1 Axes>"
      ]
     },
     "metadata": {},
     "output_type": "display_data"
    }
   ],
   "source": [
    "#plotting the delay itself against the create month using scatter plot\n",
    "plt.scatter(df_train.document_create_month,df_train.Delay)"
   ]
  },
  {
   "cell_type": "markdown",
   "metadata": {},
   "source": [
    "We see that mostly the delay varies from 0 to 130 days only a few delays are there which have a value around 300 days therefore they can be considered as outliers"
   ]
  },
  {
   "cell_type": "code",
   "execution_count": 69,
   "metadata": {},
   "outputs": [
    {
     "data": {
      "text/plain": [
       "<matplotlib.axes._subplots.AxesSubplot at 0x20d3d199eb8>"
      ]
     },
     "execution_count": 69,
     "metadata": {},
     "output_type": "execute_result"
    },
    {
     "data": {
      "image/png": "[encoded data removed]",
      "text/plain": [
       "<Figure size 432x288 with 1 Axes>"
      ]
     },
     "metadata": {},
     "output_type": "display_data"
    }
   ],
   "source": [
    "sns.boxplot(x=df_train.Delay)"
   ]
  },
  {
   "cell_type": "markdown",
   "metadata": {},
   "source": [
    "The same conclusion can be derived from the box plot"
   ]
  },
  {
   "cell_type": "code",
   "execution_count": 70,
   "metadata": {},
   "outputs": [],
   "source": [
    "ko=df_train['due_in_date'].dt.month\n",
    "#extracting the month of due date"
   ]
  },
  {
   "cell_type": "code",
   "execution_count": 71,
   "metadata": {},
   "outputs": [
    {
     "data": {
      "text/plain": [
       "<matplotlib.collections.PathCollection at 0x20d3d1e57b8>"
      ]
     },
     "execution_count": 71,
     "metadata": {},
     "output_type": "execute_result"
    },
    {
     "data": {
      "image/png": "[encoded data removed]",
      "text/plain": [
       "<Figure size 432x288 with 1 Axes>"
      ]
     },
     "metadata": {},
     "output_type": "display_data"
    }
   ],
   "source": [
    "#plotting the delay itself against the due month using scatter plot\n",
    "plt.scatter(ko,df_train.Delay)\n"
   ]
  },
  {
   "cell_type": "code",
   "execution_count": 72,
   "metadata": {},
   "outputs": [
    {
     "name": "stdout",
     "output_type": "stream",
     "text": [
      "<class 'pandas.core.frame.DataFrame'>\n",
      "Int64Index: 32444 entries, 7034 to 7172\n",
      "Data columns (total 13 columns):\n",
      "business_code             32444 non-null object\n",
      "cust_number               32444 non-null object\n",
      "name_customer             32444 non-null object\n",
      "clear_date                32444 non-null datetime64[ns]\n",
      "buisness_year             32444 non-null float64\n",
      "document_create_date.1    32444 non-null datetime64[ns]\n",
      "due_in_date               32444 non-null datetime64[ns]\n",
      "invoice_currency          32444 non-null object\n",
      "total_open_amount         32444 non-null float64\n",
      "baseline_create_date      32444 non-null datetime64[ns]\n",
      "cust_payment_terms        32444 non-null object\n",
      "Delay                     32444 non-null float64\n",
      "document_create_month     32444 non-null int64\n",
      "dtypes: datetime64[ns](4), float64(3), int64(1), object(5)\n",
      "memory usage: 4.7+ MB\n"
     ]
    }
   ],
   "source": [
    "df_train.info()\n",
    "#checking the info"
   ]
  },
  {
   "cell_type": "markdown",
   "metadata": {},
   "source": [
    "### Feature Engineering"
   ]
  },
  {
   "cell_type": "code",
   "execution_count": 73,
   "metadata": {},
   "outputs": [
    {
     "name": "stderr",
     "output_type": "stream",
     "text": [
      "C:\\Users\\KIIT\\Anaconda3\\lib\\site-packages\\ipykernel_launcher.py:2: SettingWithCopyWarning: \n",
      "A value is trying to be set on a copy of a slice from a DataFrame.\n",
      "Try using .loc[row_indexer,col_indexer] = value instead\n",
      "\n",
      "See the caveats in the documentation: http://pandas.pydata.org/pandas-docs/stable/indexing.html#indexing-view-versus-copy\n",
      "  \n"
     ]
    }
   ],
   "source": [
    "#applying one hot encoding but simply as only two values are available in invoice_currency\n",
    "df_train['invoice_currency']=np.where(df_train['invoice_currency']=='USD',1,0)"
   ]
  },
  {
   "cell_type": "code",
   "execution_count": 74,
   "metadata": {},
   "outputs": [
    {
     "data": {
      "text/plain": [
       "1    29818\n",
       "0     2626\n",
       "Name: invoice_currency, dtype: int64"
      ]
     },
     "execution_count": 74,
     "metadata": {},
     "output_type": "execute_result"
    }
   ],
   "source": [
    "#finding the value counts of invoice_currency to check how many values are there in each curency\n",
    "df_train.invoice_currency.value_counts()"
   ]
  },
  {
   "cell_type": "code",
   "execution_count": 75,
   "metadata": {},
   "outputs": [
    {
     "name": "stderr",
     "output_type": "stream",
     "text": [
      "C:\\Users\\KIIT\\Anaconda3\\lib\\site-packages\\ipykernel_launcher.py:2: SettingWithCopyWarning: \n",
      "A value is trying to be set on a copy of a slice from a DataFrame.\n",
      "Try using .loc[row_indexer,col_indexer] = value instead\n",
      "\n",
      "See the caveats in the documentation: http://pandas.pydata.org/pandas-docs/stable/indexing.html#indexing-view-versus-copy\n",
      "  \n",
      "C:\\Users\\KIIT\\Anaconda3\\lib\\site-packages\\ipykernel_launcher.py:3: SettingWithCopyWarning: \n",
      "A value is trying to be set on a copy of a slice from a DataFrame.\n",
      "Try using .loc[row_indexer,col_indexer] = value instead\n",
      "\n",
      "See the caveats in the documentation: http://pandas.pydata.org/pandas-docs/stable/indexing.html#indexing-view-versus-copy\n",
      "  This is separate from the ipykernel package so we can avoid doing imports until\n",
      "C:\\Users\\KIIT\\Anaconda3\\lib\\site-packages\\ipykernel_launcher.py:4: SettingWithCopyWarning: \n",
      "A value is trying to be set on a copy of a slice from a DataFrame.\n",
      "Try using .loc[row_indexer,col_indexer] = value instead\n",
      "\n",
      "See the caveats in the documentation: http://pandas.pydata.org/pandas-docs/stable/indexing.html#indexing-view-versus-copy\n",
      "  after removing the cwd from sys.path.\n"
     ]
    }
   ],
   "source": [
    "#performing label encoding on the customer number column\n",
    "df_train['cust_number'] = df_train['cust_number'].str.extract('(\\d+)')\n",
    "df_train['cust_number'] =df_train['cust_number'].astype(str)\n",
    "df_train['cust_number'] =df_train['cust_number'].astype(int)"
   ]
  },
  {
   "cell_type": "markdown",
   "metadata": {},
   "source": [
    "While grouping by cust_number with total open amount we saw that some of the values were a combination of string as well as numbers and we cannot use string in modelling so we extract just the numbers in such rows"
   ]
  },
  {
   "cell_type": "code",
   "execution_count": 76,
   "metadata": {},
   "outputs": [
    {
     "name": "stdout",
     "output_type": "stream",
     "text": [
      "<class 'pandas.core.frame.DataFrame'>\n",
      "Int64Index: 32444 entries, 7034 to 7172\n",
      "Data columns (total 13 columns):\n",
      "business_code             32444 non-null object\n",
      "cust_number               32444 non-null int32\n",
      "name_customer             32444 non-null object\n",
      "clear_date                32444 non-null datetime64[ns]\n",
      "buisness_year             32444 non-null float64\n",
      "document_create_date.1    32444 non-null datetime64[ns]\n",
      "due_in_date               32444 non-null datetime64[ns]\n",
      "invoice_currency          32444 non-null int32\n",
      "total_open_amount         32444 non-null float64\n",
      "baseline_create_date      32444 non-null datetime64[ns]\n",
      "cust_payment_terms        32444 non-null object\n",
      "Delay                     32444 non-null float64\n",
      "document_create_month     32444 non-null int64\n",
      "dtypes: datetime64[ns](4), float64(3), int32(2), int64(1), object(3)\n",
      "memory usage: 4.5+ MB\n"
     ]
    }
   ],
   "source": [
    "df_train.info()"
   ]
  },
  {
   "cell_type": "markdown",
   "metadata": {},
   "source": [
    "Now we can see that cust_number is also an integer value"
   ]
  },
  {
   "cell_type": "code",
   "execution_count": 77,
   "metadata": {},
   "outputs": [
    {
     "name": "stderr",
     "output_type": "stream",
     "text": [
      "C:\\Users\\KIIT\\Anaconda3\\lib\\site-packages\\pandas\\core\\frame.py:3694: SettingWithCopyWarning: \n",
      "A value is trying to be set on a copy of a slice from a DataFrame\n",
      "\n",
      "See the caveats in the documentation: http://pandas.pydata.org/pandas-docs/stable/indexing.html#indexing-view-versus-copy\n",
      "  errors=errors)\n"
     ]
    }
   ],
   "source": [
    "df_train.drop(columns=['business_code','name_customer','invoice_currency','cust_payment_terms','buisness_year','baseline_create_date'],inplace=True)\n",
    "#we are dropping certain columns"
   ]
  },
  {
   "cell_type": "markdown",
   "metadata": {},
   "source": [
    "We have also dropped invoice currency as the proportion of CAD TO USD is very less so it wont be much help during the modelling"
   ]
  },
  {
   "cell_type": "code",
   "execution_count": 78,
   "metadata": {},
   "outputs": [
    {
     "data": {
      "text/html": [
       "<div>\n",
       "<style scoped>\n",
       "    .dataframe tbody tr th:only-of-type {\n",
       "        vertical-align: middle;\n",
       "    }\n",
       "\n",
       "    .dataframe tbody tr th {\n",
       "        vertical-align: top;\n",
       "    }\n",
       "\n",
       "    .dataframe thead th {\n",
       "        text-align: right;\n",
       "    }\n",
       "</style>\n",
       "<table border=\"1\" class=\"dataframe\">\n",
       "  <thead>\n",
       "    <tr style=\"text-align: right;\">\n",
       "      <th></th>\n",
       "      <th>cust_number</th>\n",
       "      <th>clear_date</th>\n",
       "      <th>document_create_date.1</th>\n",
       "      <th>due_in_date</th>\n",
       "      <th>total_open_amount</th>\n",
       "      <th>Delay</th>\n",
       "      <th>document_create_month</th>\n",
       "    </tr>\n",
       "  </thead>\n",
       "  <tbody>\n",
       "    <tr>\n",
       "      <th>7034</th>\n",
       "      <td>200769623</td>\n",
       "      <td>2019-01-09</td>\n",
       "      <td>2018-12-30</td>\n",
       "      <td>2019-01-14</td>\n",
       "      <td>14599.04</td>\n",
       "      <td>0.0</td>\n",
       "      <td>12</td>\n",
       "    </tr>\n",
       "    <tr>\n",
       "      <th>18002</th>\n",
       "      <td>200769623</td>\n",
       "      <td>2019-01-09</td>\n",
       "      <td>2018-12-30</td>\n",
       "      <td>2019-01-14</td>\n",
       "      <td>4361.22</td>\n",
       "      <td>0.0</td>\n",
       "      <td>12</td>\n",
       "    </tr>\n",
       "    <tr>\n",
       "      <th>34168</th>\n",
       "      <td>200769623</td>\n",
       "      <td>2019-01-09</td>\n",
       "      <td>2018-12-30</td>\n",
       "      <td>2019-01-14</td>\n",
       "      <td>20173.91</td>\n",
       "      <td>0.0</td>\n",
       "      <td>12</td>\n",
       "    </tr>\n",
       "    <tr>\n",
       "      <th>20162</th>\n",
       "      <td>200101621</td>\n",
       "      <td>2019-01-25</td>\n",
       "      <td>2018-12-30</td>\n",
       "      <td>2019-01-14</td>\n",
       "      <td>47019.96</td>\n",
       "      <td>11.0</td>\n",
       "      <td>12</td>\n",
       "    </tr>\n",
       "    <tr>\n",
       "      <th>43956</th>\n",
       "      <td>200769623</td>\n",
       "      <td>2019-01-09</td>\n",
       "      <td>2018-12-30</td>\n",
       "      <td>2019-01-14</td>\n",
       "      <td>7497.67</td>\n",
       "      <td>0.0</td>\n",
       "      <td>12</td>\n",
       "    </tr>\n",
       "  </tbody>\n",
       "</table>\n",
       "</div>"
      ],
      "text/plain": [
       "       cust_number clear_date document_create_date.1 due_in_date  \\\n",
       "7034     200769623 2019-01-09             2018-12-30  2019-01-14   \n",
       "18002    200769623 2019-01-09             2018-12-30  2019-01-14   \n",
       "34168    200769623 2019-01-09             2018-12-30  2019-01-14   \n",
       "20162    200101621 2019-01-25             2018-12-30  2019-01-14   \n",
       "43956    200769623 2019-01-09             2018-12-30  2019-01-14   \n",
       "\n",
       "       total_open_amount  Delay  document_create_month  \n",
       "7034            14599.04    0.0                     12  \n",
       "18002            4361.22    0.0                     12  \n",
       "34168           20173.91    0.0                     12  \n",
       "20162           47019.96   11.0                     12  \n",
       "43956            7497.67    0.0                     12  "
      ]
     },
     "execution_count": 78,
     "metadata": {},
     "output_type": "execute_result"
    }
   ],
   "source": [
    "#having a look at the data now\n",
    "df_train.head()"
   ]
  },
  {
   "cell_type": "code",
   "execution_count": 79,
   "metadata": {},
   "outputs": [
    {
     "data": {
      "text/plain": [
       "(32444, 7)"
      ]
     },
     "execution_count": 79,
     "metadata": {},
     "output_type": "execute_result"
    }
   ],
   "source": [
    "df_train.shape"
   ]
  },
  {
   "cell_type": "code",
   "execution_count": 80,
   "metadata": {},
   "outputs": [
    {
     "name": "stderr",
     "output_type": "stream",
     "text": [
      "C:\\Users\\KIIT\\Anaconda3\\lib\\site-packages\\ipykernel_launcher.py:2: SettingWithCopyWarning: \n",
      "A value is trying to be set on a copy of a slice from a DataFrame.\n",
      "Try using .loc[row_indexer,col_indexer] = value instead\n",
      "\n",
      "See the caveats in the documentation: http://pandas.pydata.org/pandas-docs/stable/indexing.html#indexing-view-versus-copy\n",
      "  \n",
      "C:\\Users\\KIIT\\Anaconda3\\lib\\site-packages\\ipykernel_launcher.py:3: SettingWithCopyWarning: \n",
      "A value is trying to be set on a copy of a slice from a DataFrame.\n",
      "Try using .loc[row_indexer,col_indexer] = value instead\n",
      "\n",
      "See the caveats in the documentation: http://pandas.pydata.org/pandas-docs/stable/indexing.html#indexing-view-versus-copy\n",
      "  This is separate from the ipykernel package so we can avoid doing imports until\n",
      "C:\\Users\\KIIT\\Anaconda3\\lib\\site-packages\\ipykernel_launcher.py:4: SettingWithCopyWarning: \n",
      "A value is trying to be set on a copy of a slice from a DataFrame.\n",
      "Try using .loc[row_indexer,col_indexer] = value instead\n",
      "\n",
      "See the caveats in the documentation: http://pandas.pydata.org/pandas-docs/stable/indexing.html#indexing-view-versus-copy\n",
      "  after removing the cwd from sys.path.\n"
     ]
    }
   ],
   "source": [
    "#extracting the month and date from the document create date and due in date\n",
    "df_train['document_create_day']=df_train['document_create_date.1'].dt.day\n",
    "df_train['due_in_month']=df_train['due_in_date'].dt.month\n",
    "df_train['due_in_day']=df_train['due_in_date'].dt.day\n",
    "#we have not extracted document create month as we already did that above"
   ]
  },
  {
   "cell_type": "code",
   "execution_count": 81,
   "metadata": {},
   "outputs": [
    {
     "name": "stderr",
     "output_type": "stream",
     "text": [
      "C:\\Users\\KIIT\\Anaconda3\\lib\\site-packages\\pandas\\core\\frame.py:3694: SettingWithCopyWarning: \n",
      "A value is trying to be set on a copy of a slice from a DataFrame\n",
      "\n",
      "See the caveats in the documentation: http://pandas.pydata.org/pandas-docs/stable/indexing.html#indexing-view-versus-copy\n",
      "  errors=errors)\n"
     ]
    }
   ],
   "source": [
    "#dropping those columns as we have already extracted those features\n",
    "df_train.drop(columns=['clear_date','document_create_date.1','due_in_date'],inplace=True)"
   ]
  },
  {
   "cell_type": "code",
   "execution_count": 82,
   "metadata": {},
   "outputs": [
    {
     "data": {
      "text/html": [
       "<div>\n",
       "<style scoped>\n",
       "    .dataframe tbody tr th:only-of-type {\n",
       "        vertical-align: middle;\n",
       "    }\n",
       "\n",
       "    .dataframe tbody tr th {\n",
       "        vertical-align: top;\n",
       "    }\n",
       "\n",
       "    .dataframe thead th {\n",
       "        text-align: right;\n",
       "    }\n",
       "</style>\n",
       "<table border=\"1\" class=\"dataframe\">\n",
       "  <thead>\n",
       "    <tr style=\"text-align: right;\">\n",
       "      <th></th>\n",
       "      <th>cust_number</th>\n",
       "      <th>total_open_amount</th>\n",
       "      <th>Delay</th>\n",
       "      <th>document_create_month</th>\n",
       "      <th>document_create_day</th>\n",
       "      <th>due_in_month</th>\n",
       "      <th>due_in_day</th>\n",
       "    </tr>\n",
       "  </thead>\n",
       "  <tbody>\n",
       "    <tr>\n",
       "      <th>7034</th>\n",
       "      <td>200769623</td>\n",
       "      <td>14599.04</td>\n",
       "      <td>0.0</td>\n",
       "      <td>12</td>\n",
       "      <td>30</td>\n",
       "      <td>1</td>\n",
       "      <td>14</td>\n",
       "    </tr>\n",
       "    <tr>\n",
       "      <th>18002</th>\n",
       "      <td>200769623</td>\n",
       "      <td>4361.22</td>\n",
       "      <td>0.0</td>\n",
       "      <td>12</td>\n",
       "      <td>30</td>\n",
       "      <td>1</td>\n",
       "      <td>14</td>\n",
       "    </tr>\n",
       "    <tr>\n",
       "      <th>34168</th>\n",
       "      <td>200769623</td>\n",
       "      <td>20173.91</td>\n",
       "      <td>0.0</td>\n",
       "      <td>12</td>\n",
       "      <td>30</td>\n",
       "      <td>1</td>\n",
       "      <td>14</td>\n",
       "    </tr>\n",
       "    <tr>\n",
       "      <th>20162</th>\n",
       "      <td>200101621</td>\n",
       "      <td>47019.96</td>\n",
       "      <td>11.0</td>\n",
       "      <td>12</td>\n",
       "      <td>30</td>\n",
       "      <td>1</td>\n",
       "      <td>14</td>\n",
       "    </tr>\n",
       "    <tr>\n",
       "      <th>43956</th>\n",
       "      <td>200769623</td>\n",
       "      <td>7497.67</td>\n",
       "      <td>0.0</td>\n",
       "      <td>12</td>\n",
       "      <td>30</td>\n",
       "      <td>1</td>\n",
       "      <td>14</td>\n",
       "    </tr>\n",
       "  </tbody>\n",
       "</table>\n",
       "</div>"
      ],
      "text/plain": [
       "       cust_number  total_open_amount  Delay  document_create_month  \\\n",
       "7034     200769623           14599.04    0.0                     12   \n",
       "18002    200769623            4361.22    0.0                     12   \n",
       "34168    200769623           20173.91    0.0                     12   \n",
       "20162    200101621           47019.96   11.0                     12   \n",
       "43956    200769623            7497.67    0.0                     12   \n",
       "\n",
       "       document_create_day  due_in_month  due_in_day  \n",
       "7034                    30             1          14  \n",
       "18002                   30             1          14  \n",
       "34168                   30             1          14  \n",
       "20162                   30             1          14  \n",
       "43956                   30             1          14  "
      ]
     },
     "execution_count": 82,
     "metadata": {},
     "output_type": "execute_result"
    }
   ],
   "source": [
    "#seeing the dataset now\n",
    "df_train.head()"
   ]
  },
  {
   "cell_type": "markdown",
   "metadata": {},
   "source": [
    "Now we will do whatever we have done in train set on the other 3 set as well"
   ]
  },
  {
   "cell_type": "code",
   "execution_count": 83,
   "metadata": {},
   "outputs": [
    {
     "name": "stderr",
     "output_type": "stream",
     "text": [
      "C:\\Users\\KIIT\\Anaconda3\\lib\\site-packages\\pandas\\core\\frame.py:3694: SettingWithCopyWarning: \n",
      "A value is trying to be set on a copy of a slice from a DataFrame\n",
      "\n",
      "See the caveats in the documentation: http://pandas.pydata.org/pandas-docs/stable/indexing.html#indexing-view-versus-copy\n",
      "  errors=errors)\n"
     ]
    }
   ],
   "source": [
    "#dropping the isOpen column\n",
    "df_val1.drop(columns='isOpen',inplace=True)\n",
    "df_val2.drop(columns='isOpen',inplace=True)\n",
    "test_set.drop(columns='isOpen',inplace=True)"
   ]
  },
  {
   "cell_type": "code",
   "execution_count": 84,
   "metadata": {},
   "outputs": [
    {
     "name": "stderr",
     "output_type": "stream",
     "text": [
      "C:\\Users\\KIIT\\Anaconda3\\lib\\site-packages\\ipykernel_launcher.py:2: SettingWithCopyWarning: \n",
      "A value is trying to be set on a copy of a slice from a DataFrame.\n",
      "Try using .loc[row_indexer,col_indexer] = value instead\n",
      "\n",
      "See the caveats in the documentation: http://pandas.pydata.org/pandas-docs/stable/indexing.html#indexing-view-versus-copy\n",
      "  \n",
      "C:\\Users\\KIIT\\Anaconda3\\lib\\site-packages\\ipykernel_launcher.py:3: SettingWithCopyWarning: \n",
      "A value is trying to be set on a copy of a slice from a DataFrame.\n",
      "Try using .loc[row_indexer,col_indexer] = value instead\n",
      "\n",
      "See the caveats in the documentation: http://pandas.pydata.org/pandas-docs/stable/indexing.html#indexing-view-versus-copy\n",
      "  This is separate from the ipykernel package so we can avoid doing imports until\n"
     ]
    }
   ],
   "source": [
    "#extracting the document craete month\n",
    "df_val1['document_create_month']=df_val1['document_create_date.1'].dt.month\n",
    "df_val2['document_create_month']=df_val2['document_create_date.1'].dt.month\n",
    "test_set['document_create_month']=test_set['document_create_date.1'].dt.month"
   ]
  },
  {
   "cell_type": "code",
   "execution_count": 85,
   "metadata": {},
   "outputs": [
    {
     "name": "stderr",
     "output_type": "stream",
     "text": [
      "C:\\Users\\KIIT\\Anaconda3\\lib\\site-packages\\ipykernel_launcher.py:2: SettingWithCopyWarning: \n",
      "A value is trying to be set on a copy of a slice from a DataFrame.\n",
      "Try using .loc[row_indexer,col_indexer] = value instead\n",
      "\n",
      "See the caveats in the documentation: http://pandas.pydata.org/pandas-docs/stable/indexing.html#indexing-view-versus-copy\n",
      "  \n",
      "C:\\Users\\KIIT\\Anaconda3\\lib\\site-packages\\ipykernel_launcher.py:3: SettingWithCopyWarning: \n",
      "A value is trying to be set on a copy of a slice from a DataFrame.\n",
      "Try using .loc[row_indexer,col_indexer] = value instead\n",
      "\n",
      "See the caveats in the documentation: http://pandas.pydata.org/pandas-docs/stable/indexing.html#indexing-view-versus-copy\n",
      "  This is separate from the ipykernel package so we can avoid doing imports until\n",
      "C:\\Users\\KIIT\\Anaconda3\\lib\\site-packages\\ipykernel_launcher.py:4: SettingWithCopyWarning: \n",
      "A value is trying to be set on a copy of a slice from a DataFrame.\n",
      "Try using .loc[row_indexer,col_indexer] = value instead\n",
      "\n",
      "See the caveats in the documentation: http://pandas.pydata.org/pandas-docs/stable/indexing.html#indexing-view-versus-copy\n",
      "  after removing the cwd from sys.path.\n"
     ]
    }
   ],
   "source": [
    "#encoding the cust_number\n",
    "df_val1['cust_number'] = df_val1['cust_number'].str.extract('(\\d+)')\n",
    "df_val1['cust_number'] =df_val1['cust_number'].astype(str)\n",
    "df_val1['cust_number'] =df_val1['cust_number'].astype(int)"
   ]
  },
  {
   "cell_type": "code",
   "execution_count": 86,
   "metadata": {},
   "outputs": [
    {
     "name": "stderr",
     "output_type": "stream",
     "text": [
      "C:\\Users\\KIIT\\Anaconda3\\lib\\site-packages\\ipykernel_launcher.py:1: SettingWithCopyWarning: \n",
      "A value is trying to be set on a copy of a slice from a DataFrame.\n",
      "Try using .loc[row_indexer,col_indexer] = value instead\n",
      "\n",
      "See the caveats in the documentation: http://pandas.pydata.org/pandas-docs/stable/indexing.html#indexing-view-versus-copy\n",
      "  \"\"\"Entry point for launching an IPython kernel.\n",
      "C:\\Users\\KIIT\\Anaconda3\\lib\\site-packages\\ipykernel_launcher.py:2: SettingWithCopyWarning: \n",
      "A value is trying to be set on a copy of a slice from a DataFrame.\n",
      "Try using .loc[row_indexer,col_indexer] = value instead\n",
      "\n",
      "See the caveats in the documentation: http://pandas.pydata.org/pandas-docs/stable/indexing.html#indexing-view-versus-copy\n",
      "  \n",
      "C:\\Users\\KIIT\\Anaconda3\\lib\\site-packages\\ipykernel_launcher.py:3: SettingWithCopyWarning: \n",
      "A value is trying to be set on a copy of a slice from a DataFrame.\n",
      "Try using .loc[row_indexer,col_indexer] = value instead\n",
      "\n",
      "See the caveats in the documentation: http://pandas.pydata.org/pandas-docs/stable/indexing.html#indexing-view-versus-copy\n",
      "  This is separate from the ipykernel package so we can avoid doing imports until\n"
     ]
    }
   ],
   "source": [
    "df_val2['cust_number'] = df_val2['cust_number'].str.extract('(\\d+)')\n",
    "df_val2['cust_number'] =df_val2['cust_number'].astype(str)\n",
    "df_val2['cust_number'] =df_val2['cust_number'].astype(int)"
   ]
  },
  {
   "cell_type": "code",
   "execution_count": 87,
   "metadata": {},
   "outputs": [],
   "source": [
    "test_set['cust_number'] = test_set['cust_number'].str.extract('(\\d+)')\n",
    "test_set['cust_number'] =test_set['cust_number'].astype(str)\n",
    "test_set['cust_number'] =test_set['cust_number'].astype(int)"
   ]
  },
  {
   "cell_type": "code",
   "execution_count": 88,
   "metadata": {},
   "outputs": [
    {
     "name": "stderr",
     "output_type": "stream",
     "text": [
      "C:\\Users\\KIIT\\Anaconda3\\lib\\site-packages\\pandas\\core\\frame.py:3694: SettingWithCopyWarning: \n",
      "A value is trying to be set on a copy of a slice from a DataFrame\n",
      "\n",
      "See the caveats in the documentation: http://pandas.pydata.org/pandas-docs/stable/indexing.html#indexing-view-versus-copy\n",
      "  errors=errors)\n"
     ]
    }
   ],
   "source": [
    "#dropping the columns\n",
    "df_val1.drop(columns=['business_code','name_customer','invoice_currency','cust_payment_terms','buisness_year','baseline_create_date'],inplace=True)\n",
    "df_val2.drop(columns=['business_code','name_customer','invoice_currency','cust_payment_terms','buisness_year','baseline_create_date'],inplace=True)\n",
    "test_set.drop(columns=['business_code','name_customer','invoice_currency','cust_payment_terms','buisness_year','baseline_create_date'],inplace=True)"
   ]
  },
  {
   "cell_type": "code",
   "execution_count": 89,
   "metadata": {},
   "outputs": [
    {
     "name": "stderr",
     "output_type": "stream",
     "text": [
      "C:\\Users\\KIIT\\Anaconda3\\lib\\site-packages\\ipykernel_launcher.py:2: SettingWithCopyWarning: \n",
      "A value is trying to be set on a copy of a slice from a DataFrame.\n",
      "Try using .loc[row_indexer,col_indexer] = value instead\n",
      "\n",
      "See the caveats in the documentation: http://pandas.pydata.org/pandas-docs/stable/indexing.html#indexing-view-versus-copy\n",
      "  \n",
      "C:\\Users\\KIIT\\Anaconda3\\lib\\site-packages\\ipykernel_launcher.py:3: SettingWithCopyWarning: \n",
      "A value is trying to be set on a copy of a slice from a DataFrame.\n",
      "Try using .loc[row_indexer,col_indexer] = value instead\n",
      "\n",
      "See the caveats in the documentation: http://pandas.pydata.org/pandas-docs/stable/indexing.html#indexing-view-versus-copy\n",
      "  This is separate from the ipykernel package so we can avoid doing imports until\n",
      "C:\\Users\\KIIT\\Anaconda3\\lib\\site-packages\\ipykernel_launcher.py:4: SettingWithCopyWarning: \n",
      "A value is trying to be set on a copy of a slice from a DataFrame.\n",
      "Try using .loc[row_indexer,col_indexer] = value instead\n",
      "\n",
      "See the caveats in the documentation: http://pandas.pydata.org/pandas-docs/stable/indexing.html#indexing-view-versus-copy\n",
      "  after removing the cwd from sys.path.\n",
      "C:\\Users\\KIIT\\Anaconda3\\lib\\site-packages\\ipykernel_launcher.py:5: SettingWithCopyWarning: \n",
      "A value is trying to be set on a copy of a slice from a DataFrame.\n",
      "Try using .loc[row_indexer,col_indexer] = value instead\n",
      "\n",
      "See the caveats in the documentation: http://pandas.pydata.org/pandas-docs/stable/indexing.html#indexing-view-versus-copy\n",
      "  \"\"\"\n",
      "C:\\Users\\KIIT\\Anaconda3\\lib\\site-packages\\ipykernel_launcher.py:6: SettingWithCopyWarning: \n",
      "A value is trying to be set on a copy of a slice from a DataFrame.\n",
      "Try using .loc[row_indexer,col_indexer] = value instead\n",
      "\n",
      "See the caveats in the documentation: http://pandas.pydata.org/pandas-docs/stable/indexing.html#indexing-view-versus-copy\n",
      "  \n",
      "C:\\Users\\KIIT\\Anaconda3\\lib\\site-packages\\ipykernel_launcher.py:7: SettingWithCopyWarning: \n",
      "A value is trying to be set on a copy of a slice from a DataFrame.\n",
      "Try using .loc[row_indexer,col_indexer] = value instead\n",
      "\n",
      "See the caveats in the documentation: http://pandas.pydata.org/pandas-docs/stable/indexing.html#indexing-view-versus-copy\n",
      "  import sys\n"
     ]
    }
   ],
   "source": [
    "#extracting month and day from document create date and due date\n",
    "df_val1['document_create_day']=df_val1['document_create_date.1'].dt.day\n",
    "df_val1['due_in_month']=df_val1['due_in_date'].dt.month\n",
    "df_val1['due_in_day']=df_val1['due_in_date'].dt.day\n",
    "df_val2['document_create_day']=df_val2['document_create_date.1'].dt.day\n",
    "df_val2['due_in_month']=df_val2['due_in_date'].dt.month\n",
    "df_val2['due_in_day']=df_val2['due_in_date'].dt.day\n",
    "test_set['document_create_day']=test_set['document_create_date.1'].dt.day\n",
    "test_set['due_in_month']=test_set['due_in_date'].dt.month\n",
    "test_set['due_in_day']=test_set['due_in_date'].dt.day"
   ]
  },
  {
   "cell_type": "code",
   "execution_count": 90,
   "metadata": {},
   "outputs": [
    {
     "name": "stderr",
     "output_type": "stream",
     "text": [
      "C:\\Users\\KIIT\\Anaconda3\\lib\\site-packages\\pandas\\core\\frame.py:3694: SettingWithCopyWarning: \n",
      "A value is trying to be set on a copy of a slice from a DataFrame\n",
      "\n",
      "See the caveats in the documentation: http://pandas.pydata.org/pandas-docs/stable/indexing.html#indexing-view-versus-copy\n",
      "  errors=errors)\n"
     ]
    }
   ],
   "source": [
    "#dropping documnet create and due in date column\n",
    "df_val1.drop(columns=['clear_date','document_create_date.1','due_in_date'],inplace=True)\n",
    "df_val2.drop(columns=['clear_date','document_create_date.1','due_in_date'],inplace=True)\n",
    "test_set.drop(columns=['clear_date','document_create_date.1','due_in_date'],inplace=True)"
   ]
  },
  {
   "cell_type": "markdown",
   "metadata": {},
   "source": [
    "### FEATURE SELECTION"
   ]
  },
  {
   "cell_type": "code",
   "execution_count": 91,
   "metadata": {},
   "outputs": [
    {
     "name": "stdout",
     "output_type": "stream",
     "text": [
      "<class 'pandas.core.frame.DataFrame'>\n",
      "Int64Index: 32444 entries, 7034 to 7172\n",
      "Data columns (total 6 columns):\n",
      "cust_number              32444 non-null int32\n",
      "total_open_amount        32444 non-null float64\n",
      "document_create_month    32444 non-null int64\n",
      "document_create_day      32444 non-null int64\n",
      "due_in_month             32444 non-null int64\n",
      "due_in_day               32444 non-null int64\n",
      "dtypes: float64(1), int32(1), int64(4)\n",
      "memory usage: 2.9 MB\n"
     ]
    }
   ],
   "source": [
    "#splitting the data into which is the train and what has to be predicted\n",
    "x_train=df_train.drop([\"Delay\"], axis=1)\n",
    "x_train.info()"
   ]
  },
  {
   "cell_type": "code",
   "execution_count": 92,
   "metadata": {},
   "outputs": [
    {
     "data": {
      "text/plain": [
       "7034      0.0\n",
       "18002     0.0\n",
       "34168     0.0\n",
       "20162    11.0\n",
       "43956     0.0\n",
       "Name: Delay, dtype: float64"
      ]
     },
     "execution_count": 92,
     "metadata": {},
     "output_type": "execute_result"
    }
   ],
   "source": [
    "#the prediction column\n",
    "x_test=df_train['Delay']\n",
    "x_test.head()"
   ]
  },
  {
   "cell_type": "code",
   "execution_count": 93,
   "metadata": {},
   "outputs": [
    {
     "name": "stdout",
     "output_type": "stream",
     "text": [
      "<class 'pandas.core.frame.DataFrame'>\n",
      "Int64Index: 6952 entries, 28302 to 5791\n",
      "Data columns (total 6 columns):\n",
      "cust_number              6952 non-null int32\n",
      "total_open_amount        6952 non-null float64\n",
      "document_create_month    6952 non-null int64\n",
      "document_create_day      6952 non-null int64\n",
      "due_in_month             6952 non-null int64\n",
      "due_in_day               6952 non-null int64\n",
      "dtypes: float64(1), int32(1), int64(4)\n",
      "memory usage: 353.0 KB\n"
     ]
    }
   ],
   "source": [
    "#same for val1\n",
    "val1_train = df_val1.drop([\"Delay\"], axis=1)\n",
    "val1_train.info()"
   ]
  },
  {
   "cell_type": "code",
   "execution_count": 94,
   "metadata": {},
   "outputs": [
    {
     "data": {
      "text/plain": [
       "28302     0.0\n",
       "7973     50.0\n",
       "40309     1.0\n",
       "1360      0.0\n",
       "41157     1.0\n",
       "Name: Delay, dtype: float64"
      ]
     },
     "execution_count": 94,
     "metadata": {},
     "output_type": "execute_result"
    }
   ],
   "source": [
    "val1_test=df_val1['Delay']\n",
    "val1_test.head()"
   ]
  },
  {
   "cell_type": "code",
   "execution_count": 95,
   "metadata": {},
   "outputs": [
    {
     "data": {
      "text/html": [
       "<div>\n",
       "<style scoped>\n",
       "    .dataframe tbody tr th:only-of-type {\n",
       "        vertical-align: middle;\n",
       "    }\n",
       "\n",
       "    .dataframe tbody tr th {\n",
       "        vertical-align: top;\n",
       "    }\n",
       "\n",
       "    .dataframe thead th {\n",
       "        text-align: right;\n",
       "    }\n",
       "</style>\n",
       "<table border=\"1\" class=\"dataframe\">\n",
       "  <thead>\n",
       "    <tr style=\"text-align: right;\">\n",
       "      <th></th>\n",
       "      <th>cust_number</th>\n",
       "      <th>total_open_amount</th>\n",
       "      <th>document_create_month</th>\n",
       "      <th>document_create_day</th>\n",
       "      <th>due_in_month</th>\n",
       "      <th>due_in_day</th>\n",
       "    </tr>\n",
       "  </thead>\n",
       "  <tbody>\n",
       "    <tr>\n",
       "      <th>18648</th>\n",
       "      <td>200769623</td>\n",
       "      <td>12666.48</td>\n",
       "      <td>12</td>\n",
       "      <td>9</td>\n",
       "      <td>12</td>\n",
       "      <td>24</td>\n",
       "    </tr>\n",
       "    <tr>\n",
       "      <th>10414</th>\n",
       "      <td>200769623</td>\n",
       "      <td>44322.52</td>\n",
       "      <td>12</td>\n",
       "      <td>9</td>\n",
       "      <td>12</td>\n",
       "      <td>24</td>\n",
       "    </tr>\n",
       "    <tr>\n",
       "      <th>28136</th>\n",
       "      <td>200793088</td>\n",
       "      <td>148077.38</td>\n",
       "      <td>12</td>\n",
       "      <td>9</td>\n",
       "      <td>12</td>\n",
       "      <td>24</td>\n",
       "    </tr>\n",
       "    <tr>\n",
       "      <th>40522</th>\n",
       "      <td>200780383</td>\n",
       "      <td>2984.10</td>\n",
       "      <td>12</td>\n",
       "      <td>9</td>\n",
       "      <td>12</td>\n",
       "      <td>24</td>\n",
       "    </tr>\n",
       "    <tr>\n",
       "      <th>26166</th>\n",
       "      <td>200707822</td>\n",
       "      <td>72108.50</td>\n",
       "      <td>12</td>\n",
       "      <td>9</td>\n",
       "      <td>12</td>\n",
       "      <td>24</td>\n",
       "    </tr>\n",
       "  </tbody>\n",
       "</table>\n",
       "</div>"
      ],
      "text/plain": [
       "       cust_number  total_open_amount  document_create_month  \\\n",
       "18648    200769623           12666.48                     12   \n",
       "10414    200769623           44322.52                     12   \n",
       "28136    200793088          148077.38                     12   \n",
       "40522    200780383            2984.10                     12   \n",
       "26166    200707822           72108.50                     12   \n",
       "\n",
       "       document_create_day  due_in_month  due_in_day  \n",
       "18648                    9            12          24  \n",
       "10414                    9            12          24  \n",
       "28136                    9            12          24  \n",
       "40522                    9            12          24  \n",
       "26166                    9            12          24  "
      ]
     },
     "execution_count": 95,
     "metadata": {},
     "output_type": "execute_result"
    }
   ],
   "source": [
    "#and val2\n",
    "val2_train = df_val2.drop([\"Delay\"], axis=1)\n",
    "val2_train.head()"
   ]
  },
  {
   "cell_type": "code",
   "execution_count": 96,
   "metadata": {},
   "outputs": [
    {
     "data": {
      "text/plain": [
       "18648    0.0\n",
       "10414    0.0\n",
       "28136    0.0\n",
       "40522    0.0\n",
       "26166    0.0\n",
       "Name: Delay, dtype: float64"
      ]
     },
     "execution_count": 96,
     "metadata": {},
     "output_type": "execute_result"
    }
   ],
   "source": [
    "val2_test=df_val2['Delay']\n",
    "val2_test.head()"
   ]
  },
  {
   "cell_type": "code",
   "execution_count": 97,
   "metadata": {},
   "outputs": [
    {
     "data": {
      "text/html": [
       "<div>\n",
       "<style scoped>\n",
       "    .dataframe tbody tr th:only-of-type {\n",
       "        vertical-align: middle;\n",
       "    }\n",
       "\n",
       "    .dataframe tbody tr th {\n",
       "        vertical-align: top;\n",
       "    }\n",
       "\n",
       "    .dataframe thead th {\n",
       "        text-align: right;\n",
       "    }\n",
       "</style>\n",
       "<table border=\"1\" class=\"dataframe\">\n",
       "  <thead>\n",
       "    <tr style=\"text-align: right;\">\n",
       "      <th></th>\n",
       "      <th>cust_number</th>\n",
       "      <th>total_open_amount</th>\n",
       "      <th>document_create_month</th>\n",
       "      <th>document_create_day</th>\n",
       "      <th>due_in_month</th>\n",
       "      <th>due_in_day</th>\n",
       "    </tr>\n",
       "  </thead>\n",
       "  <tbody>\n",
       "    <tr>\n",
       "      <th>0</th>\n",
       "      <td>140104240</td>\n",
       "      <td>8280.91</td>\n",
       "      <td>2</td>\n",
       "      <td>27</td>\n",
       "      <td>3</td>\n",
       "      <td>10</td>\n",
       "    </tr>\n",
       "    <tr>\n",
       "      <th>1</th>\n",
       "      <td>100021540</td>\n",
       "      <td>57921.54</td>\n",
       "      <td>2</td>\n",
       "      <td>27</td>\n",
       "      <td>3</td>\n",
       "      <td>8</td>\n",
       "    </tr>\n",
       "    <tr>\n",
       "      <th>2</th>\n",
       "      <td>200759878</td>\n",
       "      <td>31552.06</td>\n",
       "      <td>2</td>\n",
       "      <td>27</td>\n",
       "      <td>3</td>\n",
       "      <td>13</td>\n",
       "    </tr>\n",
       "    <tr>\n",
       "      <th>3</th>\n",
       "      <td>200769623</td>\n",
       "      <td>14947.08</td>\n",
       "      <td>2</td>\n",
       "      <td>27</td>\n",
       "      <td>3</td>\n",
       "      <td>13</td>\n",
       "    </tr>\n",
       "    <tr>\n",
       "      <th>4</th>\n",
       "      <td>200759878</td>\n",
       "      <td>8614.36</td>\n",
       "      <td>2</td>\n",
       "      <td>27</td>\n",
       "      <td>3</td>\n",
       "      <td>13</td>\n",
       "    </tr>\n",
       "  </tbody>\n",
       "</table>\n",
       "</div>"
      ],
      "text/plain": [
       "   cust_number  total_open_amount  document_create_month  document_create_day  \\\n",
       "0    140104240            8280.91                      2                   27   \n",
       "1    100021540           57921.54                      2                   27   \n",
       "2    200759878           31552.06                      2                   27   \n",
       "3    200769623           14947.08                      2                   27   \n",
       "4    200759878            8614.36                      2                   27   \n",
       "\n",
       "   due_in_month  due_in_day  \n",
       "0             3          10  \n",
       "1             3           8  \n",
       "2             3          13  \n",
       "3             3          13  \n",
       "4             3          13  "
      ]
     },
     "execution_count": 97,
     "metadata": {},
     "output_type": "execute_result"
    }
   ],
   "source": [
    "#and for test set\n",
    "y_train = test_set.drop([\"Delay\"], axis=1)\n",
    "y_train.head()"
   ]
  },
  {
   "cell_type": "code",
   "execution_count": 98,
   "metadata": {},
   "outputs": [
    {
     "data": {
      "text/plain": [
       "0   NaN\n",
       "1   NaN\n",
       "2   NaN\n",
       "3   NaN\n",
       "4   NaN\n",
       "Name: Delay, dtype: float64"
      ]
     },
     "execution_count": 98,
     "metadata": {},
     "output_type": "execute_result"
    }
   ],
   "source": [
    "y_test=test_set['Delay']\n",
    "y_test.head()"
   ]
  },
  {
   "cell_type": "markdown",
   "metadata": {},
   "source": [
    "#### Filter Method"
   ]
  },
  {
   "cell_type": "code",
   "execution_count": 99,
   "metadata": {},
   "outputs": [
    {
     "data": {
      "text/plain": [
       "6"
      ]
     },
     "execution_count": 99,
     "metadata": {},
     "output_type": "execute_result"
    }
   ],
   "source": [
    "#Passing a value of zero for the parameter will filter all the features with zero variance\n",
    "constant_filter = VarianceThreshold(threshold=0)\n",
    "#we need to simply apply this filter to our training set as shown in the following example\n",
    "constant_filter.fit(x_train)\n",
    "#the number of non-constant features.\n",
    "len(x_train.columns[constant_filter.get_support()])"
   ]
  },
  {
   "cell_type": "code",
   "execution_count": 100,
   "metadata": {},
   "outputs": [
    {
     "name": "stdout",
     "output_type": "stream",
     "text": [
      "0\n"
     ]
    }
   ],
   "source": [
    "#the no of constant columns\n",
    "constant_columns = [column for column in x_train.columns\n",
    "                    if column not in x_train.columns[constant_filter.get_support()]]\n",
    "\n",
    "print(len(constant_columns))"
   ]
  },
  {
   "cell_type": "code",
   "execution_count": 101,
   "metadata": {},
   "outputs": [
    {
     "name": "stdout",
     "output_type": "stream",
     "text": [
      "0\n"
     ]
    }
   ],
   "source": [
    "#finding duplicate columns\n",
    "x_train_T = x_train.T\n",
    "# print the number of duplicated features\n",
    "print(x_train_T.duplicated().sum())\n",
    "# select the duplicated features columns names\n",
    "duplicated_columns = x_train_T[x_train_T.duplicated()].index.values"
   ]
  },
  {
   "cell_type": "code",
   "execution_count": 102,
   "metadata": {},
   "outputs": [
    {
     "data": {
      "text/plain": [
       "<matplotlib.axes._subplots.AxesSubplot at 0x20d455d89b0>"
      ]
     },
     "execution_count": 102,
     "metadata": {},
     "output_type": "execute_result"
    },
    {
     "data": {
      "image/png": "[encoded data removed]",
      "text/plain": [
       "<Figure size 1008x720 with 2 Axes>"
      ]
     },
     "metadata": {},
     "output_type": "display_data"
    }
   ],
   "source": [
    "#finding highly correlated columns\n",
    "plt.figure(figsize=(14,10))\n",
    "cor = df_train.corr()\n",
    "sns.heatmap(cor,cmap = 'viridis',annot=True)"
   ]
  },
  {
   "cell_type": "code",
   "execution_count": 103,
   "metadata": {},
   "outputs": [],
   "source": [
    "def handling_correlation(df,threshold=0.8):\n",
    "    # creating set to hold the correlated features\n",
    "    corr_features = set()\n",
    "    # create the correlation matrix (default to pearson)\n",
    "    corr_matrix = df.corr()\n",
    "    #code for selecting all correleated features\n",
    "    for i in range(len(corr_matrix .columns)):\n",
    "        for j in range(i):\n",
    "            if abs(corr_matrix.iloc[i, j]) >threshold:\n",
    "                colname = corr_matrix.columns[i]\n",
    "                corr_features.add(colname)\n",
    "    return list(corr_features)"
   ]
  },
  {
   "cell_type": "code",
   "execution_count": 104,
   "metadata": {},
   "outputs": [
    {
     "data": {
      "text/plain": [
       "['due_in_month']"
      ]
     },
     "execution_count": 104,
     "metadata": {},
     "output_type": "execute_result"
    }
   ],
   "source": [
    "#calling the function\n",
    "handling_correlation(x_train.copy(),0.85)"
   ]
  },
  {
   "cell_type": "code",
   "execution_count": 105,
   "metadata": {},
   "outputs": [],
   "source": [
    "#dropping that column\n",
    "x_train=x_train.drop(['due_in_month'],axis=1)"
   ]
  },
  {
   "cell_type": "code",
   "execution_count": 106,
   "metadata": {},
   "outputs": [],
   "source": [
    "val1_train=val1_train.drop(['due_in_month'],axis=1)\n",
    "val2_train=val2_train.drop(['due_in_month'],axis=1)\n",
    "y_train=y_train.drop(['due_in_month'],axis=1)"
   ]
  },
  {
   "cell_type": "markdown",
   "metadata": {},
   "source": [
    "### FITTING INTO MODEL"
   ]
  },
  {
   "cell_type": "code",
   "execution_count": 107,
   "metadata": {},
   "outputs": [],
   "source": [
    "#first using random forest\n",
    "clf = RandomForestRegressor()\n",
    "clf.fit(x_train, x_test)\n",
    "\n",
    "# Predicting the Validation Set Results\n",
    "predicted = clf.predict(val1_train)"
   ]
  },
  {
   "cell_type": "code",
   "execution_count": 108,
   "metadata": {},
   "outputs": [
    {
     "name": "stdout",
     "output_type": "stream",
     "text": [
      "Mean absolute error = 2.49\n",
      "Mean squared error = 26.59\n",
      "Median absolute error = 1.1\n",
      "Explain variance score = 0.17\n",
      "R2 score = 0.13\n",
      "Accuracy=  0.12969510824536534\n"
     ]
    }
   ],
   "source": [
    "print(\"Mean absolute error =\", round(sm.mean_absolute_error(val1_test, predicted), 2)) \n",
    "print(\"Mean squared error =\", round(sm.mean_squared_error(val1_test, predicted), 2)) \n",
    "print(\"Median absolute error =\", round(sm.median_absolute_error(val1_test, predicted), 2)) \n",
    "print(\"Explain variance score =\", round(sm.explained_variance_score(val1_test, predicted), 2)) \n",
    "print(\"R2 score =\", round(sm.r2_score(val1_test, predicted), 2))\n",
    "print(\"Accuracy= \", clf.score(val1_train,val1_test))"
   ]
  },
  {
   "cell_type": "code",
   "execution_count": 109,
   "metadata": {},
   "outputs": [],
   "source": [
    "#using decision tree regressor\n",
    "clf2 = DecisionTreeRegressor()\n",
    "clf2.fit(x_train, x_test)\n",
    "\n",
    "# Predicting the Validation Set Results\n",
    "predicted2 = clf2.predict(val1_train)"
   ]
  },
  {
   "cell_type": "code",
   "execution_count": 110,
   "metadata": {},
   "outputs": [
    {
     "name": "stdout",
     "output_type": "stream",
     "text": [
      "Mean absolute error = 2.61\n",
      "Mean squared error = 46.91\n",
      "Median absolute error = 1.0\n",
      "Explain variance score = -0.51\n",
      "R2 score = -0.54\n",
      "Accuracy=  -0.5352745775752674\n"
     ]
    }
   ],
   "source": [
    "print(\"Mean absolute error =\", round(sm.mean_absolute_error(val1_test, predicted2), 2)) \n",
    "print(\"Mean squared error =\", round(sm.mean_squared_error(val1_test, predicted2), 2)) \n",
    "print(\"Median absolute error =\", round(sm.median_absolute_error(val1_test, predicted2), 2)) \n",
    "print(\"Explain variance score =\", round(sm.explained_variance_score(val1_test, predicted2), 2)) \n",
    "print(\"R2 score =\", round(sm.r2_score(val1_test, predicted2), 2))\n",
    "print(\"Accuracy= \", clf2.score(val1_train,val1_test))"
   ]
  },
  {
   "cell_type": "code",
   "execution_count": 111,
   "metadata": {},
   "outputs": [],
   "source": [
    "#using XGBbooster\n",
    "clf3 = xgb.XGBRegressor()\n",
    "clf3.fit(x_train, x_test)\n",
    "\n",
    "# Predicting the Validation Set Results\n",
    "predicted3 = clf3.predict(val1_train)"
   ]
  },
  {
   "cell_type": "code",
   "execution_count": 112,
   "metadata": {},
   "outputs": [
    {
     "name": "stdout",
     "output_type": "stream",
     "text": [
      "Mean absolute error = 2.11\n",
      "Mean squared error = 20.28\n",
      "Median absolute error = 1.08\n",
      "Explain variance score = 0.35\n",
      "R2 score = 0.34\n",
      "Accuracy=  0.33616686662135087\n"
     ]
    }
   ],
   "source": [
    "print(\"Mean absolute error =\", round(sm.mean_absolute_error(val1_test, predicted3), 2)) \n",
    "print(\"Mean squared error =\", round(sm.mean_squared_error(val1_test, predicted3), 2)) \n",
    "print(\"Median absolute error =\", round(sm.median_absolute_error(val1_test, predicted3), 2)) \n",
    "print(\"Explain variance score =\", round(sm.explained_variance_score(val1_test, predicted3), 2)) \n",
    "print(\"R2 score =\", round(sm.r2_score(val1_test, predicted3), 2))\n",
    "print(\"Accuracy= \", clf3.score(val1_train,val1_test))"
   ]
  },
  {
   "cell_type": "code",
   "execution_count": null,
   "metadata": {},
   "outputs": [],
   "source": [
    "We will use XGBregressor as it gives us the best result"
   ]
  },
  {
   "cell_type": "markdown",
   "metadata": {},
   "source": [
    "#### HYPERPARAMETER TUNING"
   ]
  },
  {
   "cell_type": "code",
   "execution_count": 113,
   "metadata": {},
   "outputs": [],
   "source": [
    "#defining the parameters\n",
    "params={\n",
    " \"learning_rate\"    : [0.05, 0.10, 0.15, 0.20, 0.25, 0.30 ] ,\n",
    " \"max_depth\"        : [ 3, 4, 5, 6, 8, 10, 12, 15],\n",
    " \"min_child_weight\" : [ 1, 3, 5, 7 ],\n",
    " \"gamma\"            : [ 0.0, 0.1, 0.2 , 0.3, 0.4 ],\n",
    " \"colsample_bytree\" : [ 0.3, 0.4, 0.5 , 0.7 ]\n",
    "    \n",
    "}"
   ]
  },
  {
   "cell_type": "code",
   "execution_count": 114,
   "metadata": {},
   "outputs": [],
   "source": [
    "#using randomized searchCV\n",
    "random_search=RandomizedSearchCV(clf3,param_distributions=params,n_iter=5,n_jobs=-1,cv=5,verbose=3)"
   ]
  },
  {
   "cell_type": "code",
   "execution_count": 115,
   "metadata": {},
   "outputs": [
    {
     "name": "stdout",
     "output_type": "stream",
     "text": [
      "Fitting 5 folds for each of 5 candidates, totalling 25 fits\n"
     ]
    },
    {
     "name": "stderr",
     "output_type": "stream",
     "text": [
      "[Parallel(n_jobs=-1)]: Done  19 out of  25 | elapsed:   27.9s remaining:    8.7s\n",
      "[Parallel(n_jobs=-1)]: Done  25 out of  25 | elapsed:   29.7s finished\n"
     ]
    },
    {
     "data": {
      "text/plain": [
       "RandomizedSearchCV(cv=5, error_score='raise',\n",
       "          estimator=XGBRegressor(base_score=0.5, booster='gbtree', colsample_bylevel=1,\n",
       "       colsample_bynode=1, colsample_bytree=1, gamma=0, gpu_id=-1,\n",
       "       importance_type='gain', interaction_constraints='',\n",
       "       learning_rate=0.300000012, max_delta_step=0, max_depth=6,\n",
       "       min_child_weight=1, miss... scale_pos_weight=1, subsample=1, tree_method='exact',\n",
       "       validate_parameters=1, verbosity=None),\n",
       "          fit_params=None, iid=True, n_iter=5, n_jobs=-1,\n",
       "          param_distributions={'learning_rate': [0.05, 0.1, 0.15, 0.2, 0.25, 0.3], 'max_depth': [3, 4, 5, 6, 8, 10, 12, 15], 'min_child_weight': [1, 3, 5, 7], 'gamma': [0.0, 0.1, 0.2, 0.3, 0.4], 'colsample_bytree': [0.3, 0.4, 0.5, 0.7]},\n",
       "          pre_dispatch='2*n_jobs', random_state=None, refit=True,\n",
       "          return_train_score='warn', scoring=None, verbose=3)"
      ]
     },
     "execution_count": 115,
     "metadata": {},
     "output_type": "execute_result"
    }
   ],
   "source": [
    "random_search.fit(x_train, x_test)"
   ]
  },
  {
   "cell_type": "code",
   "execution_count": 116,
   "metadata": {},
   "outputs": [
    {
     "data": {
      "text/plain": [
       "XGBRegressor(base_score=0.5, booster='gbtree', colsample_bylevel=1,\n",
       "       colsample_bynode=1, colsample_bytree=0.5, gamma=0.0, gpu_id=-1,\n",
       "       importance_type='gain', interaction_constraints='',\n",
       "       learning_rate=0.2, max_delta_step=0, max_depth=3,\n",
       "       min_child_weight=3, missing=nan, monotone_constraints='()',\n",
       "       n_estimators=100, n_jobs=8, num_parallel_tree=1,\n",
       "       objective='reg:squarederror', random_state=0, reg_alpha=0,\n",
       "       reg_lambda=1, scale_pos_weight=1, subsample=1, tree_method='exact',\n",
       "       validate_parameters=1, verbosity=None)"
      ]
     },
     "execution_count": 116,
     "metadata": {},
     "output_type": "execute_result"
    }
   ],
   "source": [
    "random_search.best_estimator_"
   ]
  },
  {
   "cell_type": "code",
   "execution_count": 117,
   "metadata": {},
   "outputs": [],
   "source": [
    "clf3=xgb.XGBRegressor(base_score=0.5, booster='gbtree', colsample_bylevel=1,\n",
    "       colsample_bynode=1, colsample_bytree=0.7, gamma=0.3, gpu_id=-1,\n",
    "       importance_type='gain', interaction_constraints='',\n",
    "       learning_rate=0.1, max_delta_step=0, max_depth=4,\n",
    "       min_child_weight=3, monotone_constraints='()',\n",
    "       n_estimators=100, n_jobs=8, num_parallel_tree=1,\n",
    "       objective='reg:squarederror', random_state=0, reg_alpha=0,\n",
    "       reg_lambda=1, scale_pos_weight=1, subsample=1, tree_method='exact',\n",
    "       validate_parameters=1, verbosity=None)\n",
    "clf3.fit(x_train,x_test)\n",
    "predicted=clf3.predict(val2_train)"
   ]
  },
  {
   "cell_type": "code",
   "execution_count": 118,
   "metadata": {},
   "outputs": [
    {
     "name": "stdout",
     "output_type": "stream",
     "text": [
      "Mean absolute error = 2.34\n",
      "Mean squared error = 32.25\n",
      "Median absolute error = 1.42\n",
      "Explain variance score = 0.5\n",
      "R2 score = 0.5\n",
      "Accuracy=  0.498030787734714\n"
     ]
    }
   ],
   "source": [
    "print(\"Mean absolute error =\", round(sm.mean_absolute_error(val2_test, predicted), 2)) \n",
    "print(\"Mean squared error =\", round(sm.mean_squared_error(val2_test, predicted), 2)) \n",
    "print(\"Median absolute error =\", round(sm.median_absolute_error(val2_test, predicted), 2)) \n",
    "print(\"Explain variance score =\", round(sm.explained_variance_score(val2_test, predicted), 2)) \n",
    "print(\"R2 score =\", round(sm.r2_score(val2_test, predicted), 2))\n",
    "print(\"Accuracy= \", clf3.score(val2_train,val2_test))"
   ]
  },
  {
   "cell_type": "code",
   "execution_count": 119,
   "metadata": {},
   "outputs": [],
   "source": [
    "predicted1=clf3.predict(y_train)\n",
    "#predicting the delay in test set"
   ]
  },
  {
   "cell_type": "code",
   "execution_count": 120,
   "metadata": {},
   "outputs": [
    {
     "data": {
      "text/plain": [
       "array([ 4,  4,  2, ...,  4,  1, 17])"
      ]
     },
     "execution_count": 120,
     "metadata": {},
     "output_type": "execute_result"
    }
   ],
   "source": [
    "predicted1=np.around(predicted1)\n",
    "predicted1.astype(int)\n",
    "#rounding it off as days cannot be in decimal"
   ]
  },
  {
   "cell_type": "code",
   "execution_count": 121,
   "metadata": {},
   "outputs": [],
   "source": [
    "#creating a new dataframe\n",
    "Col=pd.DataFrame()"
   ]
  },
  {
   "cell_type": "code",
   "execution_count": 122,
   "metadata": {},
   "outputs": [
    {
     "data": {
      "text/html": [
       "<div>\n",
       "<style scoped>\n",
       "    .dataframe tbody tr th:only-of-type {\n",
       "        vertical-align: middle;\n",
       "    }\n",
       "\n",
       "    .dataframe tbody tr th {\n",
       "        vertical-align: top;\n",
       "    }\n",
       "\n",
       "    .dataframe thead th {\n",
       "        text-align: right;\n",
       "    }\n",
       "</style>\n",
       "<table border=\"1\" class=\"dataframe\">\n",
       "  <thead>\n",
       "    <tr style=\"text-align: right;\">\n",
       "      <th></th>\n",
       "      <th>Delay</th>\n",
       "    </tr>\n",
       "  </thead>\n",
       "  <tbody>\n",
       "    <tr>\n",
       "      <th>0</th>\n",
       "      <td>4 days</td>\n",
       "    </tr>\n",
       "    <tr>\n",
       "      <th>1</th>\n",
       "      <td>4 days</td>\n",
       "    </tr>\n",
       "    <tr>\n",
       "      <th>2</th>\n",
       "      <td>2 days</td>\n",
       "    </tr>\n",
       "    <tr>\n",
       "      <th>3</th>\n",
       "      <td>1 days</td>\n",
       "    </tr>\n",
       "    <tr>\n",
       "      <th>4</th>\n",
       "      <td>2 days</td>\n",
       "    </tr>\n",
       "    <tr>\n",
       "      <th>5</th>\n",
       "      <td>2 days</td>\n",
       "    </tr>\n",
       "    <tr>\n",
       "      <th>6</th>\n",
       "      <td>1 days</td>\n",
       "    </tr>\n",
       "    <tr>\n",
       "      <th>7</th>\n",
       "      <td>1 days</td>\n",
       "    </tr>\n",
       "    <tr>\n",
       "      <th>8</th>\n",
       "      <td>37 days</td>\n",
       "    </tr>\n",
       "    <tr>\n",
       "      <th>9</th>\n",
       "      <td>5 days</td>\n",
       "    </tr>\n",
       "    <tr>\n",
       "      <th>10</th>\n",
       "      <td>9 days</td>\n",
       "    </tr>\n",
       "    <tr>\n",
       "      <th>11</th>\n",
       "      <td>1 days</td>\n",
       "    </tr>\n",
       "    <tr>\n",
       "      <th>12</th>\n",
       "      <td>2 days</td>\n",
       "    </tr>\n",
       "    <tr>\n",
       "      <th>13</th>\n",
       "      <td>0 days</td>\n",
       "    </tr>\n",
       "    <tr>\n",
       "      <th>14</th>\n",
       "      <td>2 days</td>\n",
       "    </tr>\n",
       "    <tr>\n",
       "      <th>15</th>\n",
       "      <td>1 days</td>\n",
       "    </tr>\n",
       "    <tr>\n",
       "      <th>16</th>\n",
       "      <td>1 days</td>\n",
       "    </tr>\n",
       "    <tr>\n",
       "      <th>17</th>\n",
       "      <td>2 days</td>\n",
       "    </tr>\n",
       "    <tr>\n",
       "      <th>18</th>\n",
       "      <td>2 days</td>\n",
       "    </tr>\n",
       "    <tr>\n",
       "      <th>19</th>\n",
       "      <td>1 days</td>\n",
       "    </tr>\n",
       "    <tr>\n",
       "      <th>20</th>\n",
       "      <td>0 days</td>\n",
       "    </tr>\n",
       "    <tr>\n",
       "      <th>21</th>\n",
       "      <td>1 days</td>\n",
       "    </tr>\n",
       "    <tr>\n",
       "      <th>22</th>\n",
       "      <td>0 days</td>\n",
       "    </tr>\n",
       "    <tr>\n",
       "      <th>23</th>\n",
       "      <td>2 days</td>\n",
       "    </tr>\n",
       "    <tr>\n",
       "      <th>24</th>\n",
       "      <td>1 days</td>\n",
       "    </tr>\n",
       "    <tr>\n",
       "      <th>25</th>\n",
       "      <td>0 days</td>\n",
       "    </tr>\n",
       "    <tr>\n",
       "      <th>26</th>\n",
       "      <td>2 days</td>\n",
       "    </tr>\n",
       "    <tr>\n",
       "      <th>27</th>\n",
       "      <td>1 days</td>\n",
       "    </tr>\n",
       "    <tr>\n",
       "      <th>28</th>\n",
       "      <td>1 days</td>\n",
       "    </tr>\n",
       "    <tr>\n",
       "      <th>29</th>\n",
       "      <td>2 days</td>\n",
       "    </tr>\n",
       "    <tr>\n",
       "      <th>...</th>\n",
       "      <td>...</td>\n",
       "    </tr>\n",
       "    <tr>\n",
       "      <th>3616</th>\n",
       "      <td>1 days</td>\n",
       "    </tr>\n",
       "    <tr>\n",
       "      <th>3617</th>\n",
       "      <td>1 days</td>\n",
       "    </tr>\n",
       "    <tr>\n",
       "      <th>3618</th>\n",
       "      <td>4 days</td>\n",
       "    </tr>\n",
       "    <tr>\n",
       "      <th>3619</th>\n",
       "      <td>2 days</td>\n",
       "    </tr>\n",
       "    <tr>\n",
       "      <th>3620</th>\n",
       "      <td>1 days</td>\n",
       "    </tr>\n",
       "    <tr>\n",
       "      <th>3621</th>\n",
       "      <td>1 days</td>\n",
       "    </tr>\n",
       "    <tr>\n",
       "      <th>3622</th>\n",
       "      <td>1 days</td>\n",
       "    </tr>\n",
       "    <tr>\n",
       "      <th>3623</th>\n",
       "      <td>0 days</td>\n",
       "    </tr>\n",
       "    <tr>\n",
       "      <th>3624</th>\n",
       "      <td>2 days</td>\n",
       "    </tr>\n",
       "    <tr>\n",
       "      <th>3625</th>\n",
       "      <td>1 days</td>\n",
       "    </tr>\n",
       "    <tr>\n",
       "      <th>3626</th>\n",
       "      <td>1 days</td>\n",
       "    </tr>\n",
       "    <tr>\n",
       "      <th>3627</th>\n",
       "      <td>1 days</td>\n",
       "    </tr>\n",
       "    <tr>\n",
       "      <th>3628</th>\n",
       "      <td>1 days</td>\n",
       "    </tr>\n",
       "    <tr>\n",
       "      <th>3629</th>\n",
       "      <td>1 days</td>\n",
       "    </tr>\n",
       "    <tr>\n",
       "      <th>3630</th>\n",
       "      <td>1 days</td>\n",
       "    </tr>\n",
       "    <tr>\n",
       "      <th>3631</th>\n",
       "      <td>1 days</td>\n",
       "    </tr>\n",
       "    <tr>\n",
       "      <th>3632</th>\n",
       "      <td>1 days</td>\n",
       "    </tr>\n",
       "    <tr>\n",
       "      <th>3633</th>\n",
       "      <td>1 days</td>\n",
       "    </tr>\n",
       "    <tr>\n",
       "      <th>3634</th>\n",
       "      <td>2 days</td>\n",
       "    </tr>\n",
       "    <tr>\n",
       "      <th>3635</th>\n",
       "      <td>1 days</td>\n",
       "    </tr>\n",
       "    <tr>\n",
       "      <th>3636</th>\n",
       "      <td>1 days</td>\n",
       "    </tr>\n",
       "    <tr>\n",
       "      <th>3637</th>\n",
       "      <td>1 days</td>\n",
       "    </tr>\n",
       "    <tr>\n",
       "      <th>3638</th>\n",
       "      <td>1 days</td>\n",
       "    </tr>\n",
       "    <tr>\n",
       "      <th>3639</th>\n",
       "      <td>2 days</td>\n",
       "    </tr>\n",
       "    <tr>\n",
       "      <th>3640</th>\n",
       "      <td>1 days</td>\n",
       "    </tr>\n",
       "    <tr>\n",
       "      <th>3641</th>\n",
       "      <td>1 days</td>\n",
       "    </tr>\n",
       "    <tr>\n",
       "      <th>3642</th>\n",
       "      <td>1 days</td>\n",
       "    </tr>\n",
       "    <tr>\n",
       "      <th>3643</th>\n",
       "      <td>4 days</td>\n",
       "    </tr>\n",
       "    <tr>\n",
       "      <th>3644</th>\n",
       "      <td>1 days</td>\n",
       "    </tr>\n",
       "    <tr>\n",
       "      <th>3645</th>\n",
       "      <td>17 days</td>\n",
       "    </tr>\n",
       "  </tbody>\n",
       "</table>\n",
       "<p>3646 rows × 1 columns</p>\n",
       "</div>"
      ],
      "text/plain": [
       "       Delay\n",
       "0     4 days\n",
       "1     4 days\n",
       "2     2 days\n",
       "3     1 days\n",
       "4     2 days\n",
       "5     2 days\n",
       "6     1 days\n",
       "7     1 days\n",
       "8    37 days\n",
       "9     5 days\n",
       "10    9 days\n",
       "11    1 days\n",
       "12    2 days\n",
       "13    0 days\n",
       "14    2 days\n",
       "15    1 days\n",
       "16    1 days\n",
       "17    2 days\n",
       "18    2 days\n",
       "19    1 days\n",
       "20    0 days\n",
       "21    1 days\n",
       "22    0 days\n",
       "23    2 days\n",
       "24    1 days\n",
       "25    0 days\n",
       "26    2 days\n",
       "27    1 days\n",
       "28    1 days\n",
       "29    2 days\n",
       "...      ...\n",
       "3616  1 days\n",
       "3617  1 days\n",
       "3618  4 days\n",
       "3619  2 days\n",
       "3620  1 days\n",
       "3621  1 days\n",
       "3622  1 days\n",
       "3623  0 days\n",
       "3624  2 days\n",
       "3625  1 days\n",
       "3626  1 days\n",
       "3627  1 days\n",
       "3628  1 days\n",
       "3629  1 days\n",
       "3630  1 days\n",
       "3631  1 days\n",
       "3632  1 days\n",
       "3633  1 days\n",
       "3634  2 days\n",
       "3635  1 days\n",
       "3636  1 days\n",
       "3637  1 days\n",
       "3638  1 days\n",
       "3639  2 days\n",
       "3640  1 days\n",
       "3641  1 days\n",
       "3642  1 days\n",
       "3643  4 days\n",
       "3644  1 days\n",
       "3645 17 days\n",
       "\n",
       "[3646 rows x 1 columns]"
      ]
     },
     "execution_count": 122,
     "metadata": {},
     "output_type": "execute_result"
    }
   ],
   "source": [
    "#appending the delay predicted column in it\n",
    "Delay=[]\n",
    "for x in predicted1:\n",
    "    Delay.append(pd.Timedelta(days=x))\n",
    "Col['Delay'] = Delay\n",
    "Col"
   ]
  },
  {
   "cell_type": "code",
   "execution_count": 123,
   "metadata": {},
   "outputs": [
    {
     "data": {
      "text/html": [
       "<div>\n",
       "<style scoped>\n",
       "    .dataframe tbody tr th:only-of-type {\n",
       "        vertical-align: middle;\n",
       "    }\n",
       "\n",
       "    .dataframe tbody tr th {\n",
       "        vertical-align: top;\n",
       "    }\n",
       "\n",
       "    .dataframe thead th {\n",
       "        text-align: right;\n",
       "    }\n",
       "</style>\n",
       "<table border=\"1\" class=\"dataframe\">\n",
       "  <thead>\n",
       "    <tr style=\"text-align: right;\">\n",
       "      <th></th>\n",
       "      <th>Delay</th>\n",
       "      <th>clear_date</th>\n",
       "    </tr>\n",
       "  </thead>\n",
       "  <tbody>\n",
       "    <tr>\n",
       "      <th>0</th>\n",
       "      <td>4 days</td>\n",
       "      <td>2020-03-14</td>\n",
       "    </tr>\n",
       "    <tr>\n",
       "      <th>1</th>\n",
       "      <td>4 days</td>\n",
       "      <td>2020-03-12</td>\n",
       "    </tr>\n",
       "    <tr>\n",
       "      <th>2</th>\n",
       "      <td>2 days</td>\n",
       "      <td>2020-03-15</td>\n",
       "    </tr>\n",
       "    <tr>\n",
       "      <th>3</th>\n",
       "      <td>1 days</td>\n",
       "      <td>2020-03-14</td>\n",
       "    </tr>\n",
       "    <tr>\n",
       "      <th>4</th>\n",
       "      <td>2 days</td>\n",
       "      <td>2020-03-15</td>\n",
       "    </tr>\n",
       "    <tr>\n",
       "      <th>5</th>\n",
       "      <td>2 days</td>\n",
       "      <td>2020-03-15</td>\n",
       "    </tr>\n",
       "    <tr>\n",
       "      <th>6</th>\n",
       "      <td>1 days</td>\n",
       "      <td>2020-04-02</td>\n",
       "    </tr>\n",
       "    <tr>\n",
       "      <th>7</th>\n",
       "      <td>1 days</td>\n",
       "      <td>2020-03-14</td>\n",
       "    </tr>\n",
       "    <tr>\n",
       "      <th>8</th>\n",
       "      <td>37 days</td>\n",
       "      <td>2020-04-04</td>\n",
       "    </tr>\n",
       "    <tr>\n",
       "      <th>9</th>\n",
       "      <td>5 days</td>\n",
       "      <td>2020-03-13</td>\n",
       "    </tr>\n",
       "    <tr>\n",
       "      <th>10</th>\n",
       "      <td>9 days</td>\n",
       "      <td>2020-03-22</td>\n",
       "    </tr>\n",
       "    <tr>\n",
       "      <th>11</th>\n",
       "      <td>1 days</td>\n",
       "      <td>2020-03-14</td>\n",
       "    </tr>\n",
       "    <tr>\n",
       "      <th>12</th>\n",
       "      <td>2 days</td>\n",
       "      <td>2020-03-15</td>\n",
       "    </tr>\n",
       "    <tr>\n",
       "      <th>13</th>\n",
       "      <td>0 days</td>\n",
       "      <td>2020-03-13</td>\n",
       "    </tr>\n",
       "    <tr>\n",
       "      <th>14</th>\n",
       "      <td>2 days</td>\n",
       "      <td>2020-03-17</td>\n",
       "    </tr>\n",
       "    <tr>\n",
       "      <th>15</th>\n",
       "      <td>1 days</td>\n",
       "      <td>2020-03-14</td>\n",
       "    </tr>\n",
       "    <tr>\n",
       "      <th>16</th>\n",
       "      <td>1 days</td>\n",
       "      <td>2020-03-14</td>\n",
       "    </tr>\n",
       "    <tr>\n",
       "      <th>17</th>\n",
       "      <td>2 days</td>\n",
       "      <td>2020-03-15</td>\n",
       "    </tr>\n",
       "    <tr>\n",
       "      <th>18</th>\n",
       "      <td>2 days</td>\n",
       "      <td>2020-03-15</td>\n",
       "    </tr>\n",
       "    <tr>\n",
       "      <th>19</th>\n",
       "      <td>1 days</td>\n",
       "      <td>2020-03-14</td>\n",
       "    </tr>\n",
       "    <tr>\n",
       "      <th>20</th>\n",
       "      <td>0 days</td>\n",
       "      <td>2020-03-13</td>\n",
       "    </tr>\n",
       "    <tr>\n",
       "      <th>21</th>\n",
       "      <td>1 days</td>\n",
       "      <td>2020-03-14</td>\n",
       "    </tr>\n",
       "    <tr>\n",
       "      <th>22</th>\n",
       "      <td>0 days</td>\n",
       "      <td>2020-03-13</td>\n",
       "    </tr>\n",
       "    <tr>\n",
       "      <th>23</th>\n",
       "      <td>2 days</td>\n",
       "      <td>2020-03-15</td>\n",
       "    </tr>\n",
       "    <tr>\n",
       "      <th>24</th>\n",
       "      <td>1 days</td>\n",
       "      <td>2020-03-14</td>\n",
       "    </tr>\n",
       "    <tr>\n",
       "      <th>25</th>\n",
       "      <td>0 days</td>\n",
       "      <td>2020-03-13</td>\n",
       "    </tr>\n",
       "    <tr>\n",
       "      <th>26</th>\n",
       "      <td>2 days</td>\n",
       "      <td>2020-03-15</td>\n",
       "    </tr>\n",
       "    <tr>\n",
       "      <th>27</th>\n",
       "      <td>1 days</td>\n",
       "      <td>2020-03-14</td>\n",
       "    </tr>\n",
       "    <tr>\n",
       "      <th>28</th>\n",
       "      <td>1 days</td>\n",
       "      <td>2020-03-14</td>\n",
       "    </tr>\n",
       "    <tr>\n",
       "      <th>29</th>\n",
       "      <td>2 days</td>\n",
       "      <td>2020-03-15</td>\n",
       "    </tr>\n",
       "    <tr>\n",
       "      <th>...</th>\n",
       "      <td>...</td>\n",
       "      <td>...</td>\n",
       "    </tr>\n",
       "    <tr>\n",
       "      <th>3616</th>\n",
       "      <td>1 days</td>\n",
       "      <td>2020-05-26</td>\n",
       "    </tr>\n",
       "    <tr>\n",
       "      <th>3617</th>\n",
       "      <td>1 days</td>\n",
       "      <td>2020-05-27</td>\n",
       "    </tr>\n",
       "    <tr>\n",
       "      <th>3618</th>\n",
       "      <td>4 days</td>\n",
       "      <td>2020-05-25</td>\n",
       "    </tr>\n",
       "    <tr>\n",
       "      <th>3619</th>\n",
       "      <td>2 days</td>\n",
       "      <td>2020-05-28</td>\n",
       "    </tr>\n",
       "    <tr>\n",
       "      <th>3620</th>\n",
       "      <td>1 days</td>\n",
       "      <td>2020-05-27</td>\n",
       "    </tr>\n",
       "    <tr>\n",
       "      <th>3621</th>\n",
       "      <td>1 days</td>\n",
       "      <td>2020-05-27</td>\n",
       "    </tr>\n",
       "    <tr>\n",
       "      <th>3622</th>\n",
       "      <td>1 days</td>\n",
       "      <td>2020-05-27</td>\n",
       "    </tr>\n",
       "    <tr>\n",
       "      <th>3623</th>\n",
       "      <td>0 days</td>\n",
       "      <td>2020-05-26</td>\n",
       "    </tr>\n",
       "    <tr>\n",
       "      <th>3624</th>\n",
       "      <td>2 days</td>\n",
       "      <td>2020-05-28</td>\n",
       "    </tr>\n",
       "    <tr>\n",
       "      <th>3625</th>\n",
       "      <td>1 days</td>\n",
       "      <td>2020-05-27</td>\n",
       "    </tr>\n",
       "    <tr>\n",
       "      <th>3626</th>\n",
       "      <td>1 days</td>\n",
       "      <td>2020-05-27</td>\n",
       "    </tr>\n",
       "    <tr>\n",
       "      <th>3627</th>\n",
       "      <td>1 days</td>\n",
       "      <td>2020-05-27</td>\n",
       "    </tr>\n",
       "    <tr>\n",
       "      <th>3628</th>\n",
       "      <td>1 days</td>\n",
       "      <td>2020-05-27</td>\n",
       "    </tr>\n",
       "    <tr>\n",
       "      <th>3629</th>\n",
       "      <td>1 days</td>\n",
       "      <td>2020-05-27</td>\n",
       "    </tr>\n",
       "    <tr>\n",
       "      <th>3630</th>\n",
       "      <td>1 days</td>\n",
       "      <td>2020-05-27</td>\n",
       "    </tr>\n",
       "    <tr>\n",
       "      <th>3631</th>\n",
       "      <td>1 days</td>\n",
       "      <td>2020-05-27</td>\n",
       "    </tr>\n",
       "    <tr>\n",
       "      <th>3632</th>\n",
       "      <td>1 days</td>\n",
       "      <td>2020-05-27</td>\n",
       "    </tr>\n",
       "    <tr>\n",
       "      <th>3633</th>\n",
       "      <td>1 days</td>\n",
       "      <td>2020-05-28</td>\n",
       "    </tr>\n",
       "    <tr>\n",
       "      <th>3634</th>\n",
       "      <td>2 days</td>\n",
       "      <td>2020-05-29</td>\n",
       "    </tr>\n",
       "    <tr>\n",
       "      <th>3635</th>\n",
       "      <td>1 days</td>\n",
       "      <td>2020-05-28</td>\n",
       "    </tr>\n",
       "    <tr>\n",
       "      <th>3636</th>\n",
       "      <td>1 days</td>\n",
       "      <td>2020-05-28</td>\n",
       "    </tr>\n",
       "    <tr>\n",
       "      <th>3637</th>\n",
       "      <td>1 days</td>\n",
       "      <td>2020-05-28</td>\n",
       "    </tr>\n",
       "    <tr>\n",
       "      <th>3638</th>\n",
       "      <td>1 days</td>\n",
       "      <td>2020-05-28</td>\n",
       "    </tr>\n",
       "    <tr>\n",
       "      <th>3639</th>\n",
       "      <td>2 days</td>\n",
       "      <td>2020-05-26</td>\n",
       "    </tr>\n",
       "    <tr>\n",
       "      <th>3640</th>\n",
       "      <td>1 days</td>\n",
       "      <td>2020-05-28</td>\n",
       "    </tr>\n",
       "    <tr>\n",
       "      <th>3641</th>\n",
       "      <td>1 days</td>\n",
       "      <td>2020-05-28</td>\n",
       "    </tr>\n",
       "    <tr>\n",
       "      <th>3642</th>\n",
       "      <td>1 days</td>\n",
       "      <td>2020-05-28</td>\n",
       "    </tr>\n",
       "    <tr>\n",
       "      <th>3643</th>\n",
       "      <td>4 days</td>\n",
       "      <td>2020-05-27</td>\n",
       "    </tr>\n",
       "    <tr>\n",
       "      <th>3644</th>\n",
       "      <td>1 days</td>\n",
       "      <td>2020-06-04</td>\n",
       "    </tr>\n",
       "    <tr>\n",
       "      <th>3645</th>\n",
       "      <td>17 days</td>\n",
       "      <td>2020-07-07</td>\n",
       "    </tr>\n",
       "  </tbody>\n",
       "</table>\n",
       "<p>3646 rows × 2 columns</p>\n",
       "</div>"
      ],
      "text/plain": [
       "       Delay clear_date\n",
       "0     4 days 2020-03-14\n",
       "1     4 days 2020-03-12\n",
       "2     2 days 2020-03-15\n",
       "3     1 days 2020-03-14\n",
       "4     2 days 2020-03-15\n",
       "5     2 days 2020-03-15\n",
       "6     1 days 2020-04-02\n",
       "7     1 days 2020-03-14\n",
       "8    37 days 2020-04-04\n",
       "9     5 days 2020-03-13\n",
       "10    9 days 2020-03-22\n",
       "11    1 days 2020-03-14\n",
       "12    2 days 2020-03-15\n",
       "13    0 days 2020-03-13\n",
       "14    2 days 2020-03-17\n",
       "15    1 days 2020-03-14\n",
       "16    1 days 2020-03-14\n",
       "17    2 days 2020-03-15\n",
       "18    2 days 2020-03-15\n",
       "19    1 days 2020-03-14\n",
       "20    0 days 2020-03-13\n",
       "21    1 days 2020-03-14\n",
       "22    0 days 2020-03-13\n",
       "23    2 days 2020-03-15\n",
       "24    1 days 2020-03-14\n",
       "25    0 days 2020-03-13\n",
       "26    2 days 2020-03-15\n",
       "27    1 days 2020-03-14\n",
       "28    1 days 2020-03-14\n",
       "29    2 days 2020-03-15\n",
       "...      ...        ...\n",
       "3616  1 days 2020-05-26\n",
       "3617  1 days 2020-05-27\n",
       "3618  4 days 2020-05-25\n",
       "3619  2 days 2020-05-28\n",
       "3620  1 days 2020-05-27\n",
       "3621  1 days 2020-05-27\n",
       "3622  1 days 2020-05-27\n",
       "3623  0 days 2020-05-26\n",
       "3624  2 days 2020-05-28\n",
       "3625  1 days 2020-05-27\n",
       "3626  1 days 2020-05-27\n",
       "3627  1 days 2020-05-27\n",
       "3628  1 days 2020-05-27\n",
       "3629  1 days 2020-05-27\n",
       "3630  1 days 2020-05-27\n",
       "3631  1 days 2020-05-27\n",
       "3632  1 days 2020-05-27\n",
       "3633  1 days 2020-05-28\n",
       "3634  2 days 2020-05-29\n",
       "3635  1 days 2020-05-28\n",
       "3636  1 days 2020-05-28\n",
       "3637  1 days 2020-05-28\n",
       "3638  1 days 2020-05-28\n",
       "3639  2 days 2020-05-26\n",
       "3640  1 days 2020-05-28\n",
       "3641  1 days 2020-05-28\n",
       "3642  1 days 2020-05-28\n",
       "3643  4 days 2020-05-27\n",
       "3644  1 days 2020-06-04\n",
       "3645 17 days 2020-07-07\n",
       "\n",
       "[3646 rows x 2 columns]"
      ]
     },
     "execution_count": 123,
     "metadata": {},
     "output_type": "execute_result"
    }
   ],
   "source": [
    "#finding the clear_date\n",
    "Col['clear_date'] = ts['due_in_date']+Col['Delay']\n",
    "Col"
   ]
  },
  {
   "cell_type": "code",
   "execution_count": 124,
   "metadata": {},
   "outputs": [
    {
     "data": {
      "text/html": [
       "<div>\n",
       "<style scoped>\n",
       "    .dataframe tbody tr th:only-of-type {\n",
       "        vertical-align: middle;\n",
       "    }\n",
       "\n",
       "    .dataframe tbody tr th {\n",
       "        vertical-align: top;\n",
       "    }\n",
       "\n",
       "    .dataframe thead th {\n",
       "        text-align: right;\n",
       "    }\n",
       "</style>\n",
       "<table border=\"1\" class=\"dataframe\">\n",
       "  <thead>\n",
       "    <tr style=\"text-align: right;\">\n",
       "      <th></th>\n",
       "      <th>clear_date</th>\n",
       "      <th>Aging Bucket</th>\n",
       "    </tr>\n",
       "  </thead>\n",
       "  <tbody>\n",
       "    <tr>\n",
       "      <th>0</th>\n",
       "      <td>2020-03-14</td>\n",
       "      <td>0-15days</td>\n",
       "    </tr>\n",
       "    <tr>\n",
       "      <th>1</th>\n",
       "      <td>2020-03-12</td>\n",
       "      <td>0-15days</td>\n",
       "    </tr>\n",
       "    <tr>\n",
       "      <th>2</th>\n",
       "      <td>2020-03-15</td>\n",
       "      <td>0-15days</td>\n",
       "    </tr>\n",
       "    <tr>\n",
       "      <th>3</th>\n",
       "      <td>2020-03-14</td>\n",
       "      <td>0-15days</td>\n",
       "    </tr>\n",
       "    <tr>\n",
       "      <th>4</th>\n",
       "      <td>2020-03-15</td>\n",
       "      <td>0-15days</td>\n",
       "    </tr>\n",
       "    <tr>\n",
       "      <th>5</th>\n",
       "      <td>2020-03-15</td>\n",
       "      <td>0-15days</td>\n",
       "    </tr>\n",
       "    <tr>\n",
       "      <th>6</th>\n",
       "      <td>2020-04-02</td>\n",
       "      <td>0-15days</td>\n",
       "    </tr>\n",
       "    <tr>\n",
       "      <th>7</th>\n",
       "      <td>2020-03-14</td>\n",
       "      <td>0-15days</td>\n",
       "    </tr>\n",
       "    <tr>\n",
       "      <th>8</th>\n",
       "      <td>2020-04-04</td>\n",
       "      <td>31-45days</td>\n",
       "    </tr>\n",
       "    <tr>\n",
       "      <th>9</th>\n",
       "      <td>2020-03-13</td>\n",
       "      <td>0-15days</td>\n",
       "    </tr>\n",
       "    <tr>\n",
       "      <th>10</th>\n",
       "      <td>2020-03-22</td>\n",
       "      <td>0-15days</td>\n",
       "    </tr>\n",
       "    <tr>\n",
       "      <th>11</th>\n",
       "      <td>2020-03-14</td>\n",
       "      <td>0-15days</td>\n",
       "    </tr>\n",
       "    <tr>\n",
       "      <th>12</th>\n",
       "      <td>2020-03-15</td>\n",
       "      <td>0-15days</td>\n",
       "    </tr>\n",
       "    <tr>\n",
       "      <th>13</th>\n",
       "      <td>2020-03-13</td>\n",
       "      <td>0-15days</td>\n",
       "    </tr>\n",
       "    <tr>\n",
       "      <th>14</th>\n",
       "      <td>2020-03-17</td>\n",
       "      <td>0-15days</td>\n",
       "    </tr>\n",
       "    <tr>\n",
       "      <th>15</th>\n",
       "      <td>2020-03-14</td>\n",
       "      <td>0-15days</td>\n",
       "    </tr>\n",
       "    <tr>\n",
       "      <th>16</th>\n",
       "      <td>2020-03-14</td>\n",
       "      <td>0-15days</td>\n",
       "    </tr>\n",
       "    <tr>\n",
       "      <th>17</th>\n",
       "      <td>2020-03-15</td>\n",
       "      <td>0-15days</td>\n",
       "    </tr>\n",
       "    <tr>\n",
       "      <th>18</th>\n",
       "      <td>2020-03-15</td>\n",
       "      <td>0-15days</td>\n",
       "    </tr>\n",
       "    <tr>\n",
       "      <th>19</th>\n",
       "      <td>2020-03-14</td>\n",
       "      <td>0-15days</td>\n",
       "    </tr>\n",
       "    <tr>\n",
       "      <th>20</th>\n",
       "      <td>2020-03-13</td>\n",
       "      <td>0-15days</td>\n",
       "    </tr>\n",
       "    <tr>\n",
       "      <th>21</th>\n",
       "      <td>2020-03-14</td>\n",
       "      <td>0-15days</td>\n",
       "    </tr>\n",
       "    <tr>\n",
       "      <th>22</th>\n",
       "      <td>2020-03-13</td>\n",
       "      <td>0-15days</td>\n",
       "    </tr>\n",
       "    <tr>\n",
       "      <th>23</th>\n",
       "      <td>2020-03-15</td>\n",
       "      <td>0-15days</td>\n",
       "    </tr>\n",
       "    <tr>\n",
       "      <th>24</th>\n",
       "      <td>2020-03-14</td>\n",
       "      <td>0-15days</td>\n",
       "    </tr>\n",
       "    <tr>\n",
       "      <th>25</th>\n",
       "      <td>2020-03-13</td>\n",
       "      <td>0-15days</td>\n",
       "    </tr>\n",
       "    <tr>\n",
       "      <th>26</th>\n",
       "      <td>2020-03-15</td>\n",
       "      <td>0-15days</td>\n",
       "    </tr>\n",
       "    <tr>\n",
       "      <th>27</th>\n",
       "      <td>2020-03-14</td>\n",
       "      <td>0-15days</td>\n",
       "    </tr>\n",
       "    <tr>\n",
       "      <th>28</th>\n",
       "      <td>2020-03-14</td>\n",
       "      <td>0-15days</td>\n",
       "    </tr>\n",
       "    <tr>\n",
       "      <th>29</th>\n",
       "      <td>2020-03-15</td>\n",
       "      <td>0-15days</td>\n",
       "    </tr>\n",
       "    <tr>\n",
       "      <th>...</th>\n",
       "      <td>...</td>\n",
       "      <td>...</td>\n",
       "    </tr>\n",
       "    <tr>\n",
       "      <th>3616</th>\n",
       "      <td>2020-05-26</td>\n",
       "      <td>0-15days</td>\n",
       "    </tr>\n",
       "    <tr>\n",
       "      <th>3617</th>\n",
       "      <td>2020-05-27</td>\n",
       "      <td>0-15days</td>\n",
       "    </tr>\n",
       "    <tr>\n",
       "      <th>3618</th>\n",
       "      <td>2020-05-25</td>\n",
       "      <td>0-15days</td>\n",
       "    </tr>\n",
       "    <tr>\n",
       "      <th>3619</th>\n",
       "      <td>2020-05-28</td>\n",
       "      <td>0-15days</td>\n",
       "    </tr>\n",
       "    <tr>\n",
       "      <th>3620</th>\n",
       "      <td>2020-05-27</td>\n",
       "      <td>0-15days</td>\n",
       "    </tr>\n",
       "    <tr>\n",
       "      <th>3621</th>\n",
       "      <td>2020-05-27</td>\n",
       "      <td>0-15days</td>\n",
       "    </tr>\n",
       "    <tr>\n",
       "      <th>3622</th>\n",
       "      <td>2020-05-27</td>\n",
       "      <td>0-15days</td>\n",
       "    </tr>\n",
       "    <tr>\n",
       "      <th>3623</th>\n",
       "      <td>2020-05-26</td>\n",
       "      <td>0-15days</td>\n",
       "    </tr>\n",
       "    <tr>\n",
       "      <th>3624</th>\n",
       "      <td>2020-05-28</td>\n",
       "      <td>0-15days</td>\n",
       "    </tr>\n",
       "    <tr>\n",
       "      <th>3625</th>\n",
       "      <td>2020-05-27</td>\n",
       "      <td>0-15days</td>\n",
       "    </tr>\n",
       "    <tr>\n",
       "      <th>3626</th>\n",
       "      <td>2020-05-27</td>\n",
       "      <td>0-15days</td>\n",
       "    </tr>\n",
       "    <tr>\n",
       "      <th>3627</th>\n",
       "      <td>2020-05-27</td>\n",
       "      <td>0-15days</td>\n",
       "    </tr>\n",
       "    <tr>\n",
       "      <th>3628</th>\n",
       "      <td>2020-05-27</td>\n",
       "      <td>0-15days</td>\n",
       "    </tr>\n",
       "    <tr>\n",
       "      <th>3629</th>\n",
       "      <td>2020-05-27</td>\n",
       "      <td>0-15days</td>\n",
       "    </tr>\n",
       "    <tr>\n",
       "      <th>3630</th>\n",
       "      <td>2020-05-27</td>\n",
       "      <td>0-15days</td>\n",
       "    </tr>\n",
       "    <tr>\n",
       "      <th>3631</th>\n",
       "      <td>2020-05-27</td>\n",
       "      <td>0-15days</td>\n",
       "    </tr>\n",
       "    <tr>\n",
       "      <th>3632</th>\n",
       "      <td>2020-05-27</td>\n",
       "      <td>0-15days</td>\n",
       "    </tr>\n",
       "    <tr>\n",
       "      <th>3633</th>\n",
       "      <td>2020-05-28</td>\n",
       "      <td>0-15days</td>\n",
       "    </tr>\n",
       "    <tr>\n",
       "      <th>3634</th>\n",
       "      <td>2020-05-29</td>\n",
       "      <td>0-15days</td>\n",
       "    </tr>\n",
       "    <tr>\n",
       "      <th>3635</th>\n",
       "      <td>2020-05-28</td>\n",
       "      <td>0-15days</td>\n",
       "    </tr>\n",
       "    <tr>\n",
       "      <th>3636</th>\n",
       "      <td>2020-05-28</td>\n",
       "      <td>0-15days</td>\n",
       "    </tr>\n",
       "    <tr>\n",
       "      <th>3637</th>\n",
       "      <td>2020-05-28</td>\n",
       "      <td>0-15days</td>\n",
       "    </tr>\n",
       "    <tr>\n",
       "      <th>3638</th>\n",
       "      <td>2020-05-28</td>\n",
       "      <td>0-15days</td>\n",
       "    </tr>\n",
       "    <tr>\n",
       "      <th>3639</th>\n",
       "      <td>2020-05-26</td>\n",
       "      <td>0-15days</td>\n",
       "    </tr>\n",
       "    <tr>\n",
       "      <th>3640</th>\n",
       "      <td>2020-05-28</td>\n",
       "      <td>0-15days</td>\n",
       "    </tr>\n",
       "    <tr>\n",
       "      <th>3641</th>\n",
       "      <td>2020-05-28</td>\n",
       "      <td>0-15days</td>\n",
       "    </tr>\n",
       "    <tr>\n",
       "      <th>3642</th>\n",
       "      <td>2020-05-28</td>\n",
       "      <td>0-15days</td>\n",
       "    </tr>\n",
       "    <tr>\n",
       "      <th>3643</th>\n",
       "      <td>2020-05-27</td>\n",
       "      <td>0-15days</td>\n",
       "    </tr>\n",
       "    <tr>\n",
       "      <th>3644</th>\n",
       "      <td>2020-06-04</td>\n",
       "      <td>0-15days</td>\n",
       "    </tr>\n",
       "    <tr>\n",
       "      <th>3645</th>\n",
       "      <td>2020-07-07</td>\n",
       "      <td>16-30days</td>\n",
       "    </tr>\n",
       "  </tbody>\n",
       "</table>\n",
       "<p>3646 rows × 2 columns</p>\n",
       "</div>"
      ],
      "text/plain": [
       "     clear_date Aging Bucket\n",
       "0    2020-03-14     0-15days\n",
       "1    2020-03-12     0-15days\n",
       "2    2020-03-15     0-15days\n",
       "3    2020-03-14     0-15days\n",
       "4    2020-03-15     0-15days\n",
       "5    2020-03-15     0-15days\n",
       "6    2020-04-02     0-15days\n",
       "7    2020-03-14     0-15days\n",
       "8    2020-04-04    31-45days\n",
       "9    2020-03-13     0-15days\n",
       "10   2020-03-22     0-15days\n",
       "11   2020-03-14     0-15days\n",
       "12   2020-03-15     0-15days\n",
       "13   2020-03-13     0-15days\n",
       "14   2020-03-17     0-15days\n",
       "15   2020-03-14     0-15days\n",
       "16   2020-03-14     0-15days\n",
       "17   2020-03-15     0-15days\n",
       "18   2020-03-15     0-15days\n",
       "19   2020-03-14     0-15days\n",
       "20   2020-03-13     0-15days\n",
       "21   2020-03-14     0-15days\n",
       "22   2020-03-13     0-15days\n",
       "23   2020-03-15     0-15days\n",
       "24   2020-03-14     0-15days\n",
       "25   2020-03-13     0-15days\n",
       "26   2020-03-15     0-15days\n",
       "27   2020-03-14     0-15days\n",
       "28   2020-03-14     0-15days\n",
       "29   2020-03-15     0-15days\n",
       "...         ...          ...\n",
       "3616 2020-05-26     0-15days\n",
       "3617 2020-05-27     0-15days\n",
       "3618 2020-05-25     0-15days\n",
       "3619 2020-05-28     0-15days\n",
       "3620 2020-05-27     0-15days\n",
       "3621 2020-05-27     0-15days\n",
       "3622 2020-05-27     0-15days\n",
       "3623 2020-05-26     0-15days\n",
       "3624 2020-05-28     0-15days\n",
       "3625 2020-05-27     0-15days\n",
       "3626 2020-05-27     0-15days\n",
       "3627 2020-05-27     0-15days\n",
       "3628 2020-05-27     0-15days\n",
       "3629 2020-05-27     0-15days\n",
       "3630 2020-05-27     0-15days\n",
       "3631 2020-05-27     0-15days\n",
       "3632 2020-05-27     0-15days\n",
       "3633 2020-05-28     0-15days\n",
       "3634 2020-05-29     0-15days\n",
       "3635 2020-05-28     0-15days\n",
       "3636 2020-05-28     0-15days\n",
       "3637 2020-05-28     0-15days\n",
       "3638 2020-05-28     0-15days\n",
       "3639 2020-05-26     0-15days\n",
       "3640 2020-05-28     0-15days\n",
       "3641 2020-05-28     0-15days\n",
       "3642 2020-05-28     0-15days\n",
       "3643 2020-05-27     0-15days\n",
       "3644 2020-06-04     0-15days\n",
       "3645 2020-07-07    16-30days\n",
       "\n",
       "[3646 rows x 2 columns]"
      ]
     },
     "execution_count": 124,
     "metadata": {},
     "output_type": "execute_result"
    }
   ],
   "source": [
    "# Creating the Aging Bucket\n",
    "aging_bucket = []\n",
    "for x in predicted1:\n",
    "    if x<=15:\n",
    "        aging_bucket.append(\"0-15days\")\n",
    "    elif x<=30:\n",
    "        aging_bucket.append(\"16-30days\")\n",
    "    elif x<=45:\n",
    "        aging_bucket.append(\"31-45days\")\n",
    "    elif x<=60:\n",
    "        aging_bucket.append(\"46-60days\")\n",
    "    else:\n",
    "        aging_bucket.append(\"Greater than 60 days\")\n",
    "Col['Aging Bucket']= aging_bucket\n",
    "Col.drop(['Delay'],axis=1,inplace=True)\n",
    "Col"
   ]
  },
  {
   "cell_type": "code",
   "execution_count": null,
   "metadata": {},
   "outputs": [],
   "source": []
  }
 ],
 "metadata": {
  "kernelspec": {
   "display_name": "Python 3",
   "language": "python",
   "name": "python3"
  },
  "language_info": {
   "codemirror_mode": {
    "name": "ipython",
    "version": 3
   },
   "file_extension": ".py",
   "mimetype": "text/x-python",
   "name": "python",
   "nbconvert_exporter": "python",
   "pygments_lexer": "ipython3",
   "version": "3.6.5"
  }
 },
 "nbformat": 4,
 "nbformat_minor": 2
}
